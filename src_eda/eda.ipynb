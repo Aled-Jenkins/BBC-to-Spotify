{
 "cells": [
  {
   "cell_type": "code",
   "execution_count": 2,
   "metadata": {},
   "outputs": [
    {
     "name": "stderr",
     "output_type": "stream",
     "text": [
      "/opt/anaconda3/lib/python3.8/site-packages/tqdm/std.py:697: FutureWarning: The Panel class is removed from pandas. Accessing it from the top-level namespace will also be removed in the next version\n",
      "  from pandas import Panel\n"
     ]
    }
   ],
   "source": [
    "import pandas as pd\n",
    "import numpy as np\n",
    "import hashlib\n",
    "from dotenv import load_dotenv\n",
    "import re\n",
    "import math\n",
    "from tqdm import tqdm\n",
    "from tqdm.notebook import tqdm_notebook\n",
    "from fuzzywuzzy import fuzz\n",
    "tqdm_notebook.pandas()\n",
    "\n",
    "import json\n",
    "import os"
   ]
  },
  {
   "cell_type": "code",
   "execution_count": 21,
   "metadata": {},
   "outputs": [],
   "source": [
    "df = pd.DataFrame()\n",
    "for file in ['../data/MyData/' + x for x in os.listdir('./data/MyData') if 'StreamingHistory' in x]:\n",
    "    with open(file, 'r') as f:\n",
    "        df_temp = pd.DataFrame(json.load(f))\n",
    "        df = pd.concat([df,df_temp])"
   ]
  },
  {
   "cell_type": "code",
   "execution_count": 8,
   "metadata": {},
   "outputs": [],
   "source": [
    "df_extended = pd.DataFrame()\n",
    "for file in ['../data/MyExtendedData/' + x for x in os.listdir('../data/MyExtendedData') if 'Streaming_History_Audio' in x]:\n",
    "    with open(file, 'r') as f:\n",
    "        df_temp = pd.DataFrame(json.load(f))\n",
    "        df_extended = pd.concat([df_extended,df_temp])"
   ]
  },
  {
   "cell_type": "code",
   "execution_count": 49,
   "metadata": {},
   "outputs": [],
   "source": [
    "summary = df.groupby(['artistName','trackName']).sum().reset_index()\n",
    "summary['minutes'] = summary['msPlayed'].apply(lambda x: x/60000)\n",
    "summary['hours'] = summary['minutes'].apply(lambda x: x/60)"
   ]
  },
  {
   "cell_type": "code",
   "execution_count": 50,
   "metadata": {},
   "outputs": [],
   "source": [
    "summary_artist = df.groupby(['artistName']).sum().reset_index()\n",
    "summary_artist['minutes'] = summary_artist['msPlayed'].apply(lambda x: x/60000)\n",
    "summary_artist['hours'] = summary_artist['minutes'].apply(lambda x: x/60)"
   ]
  },
  {
   "cell_type": "code",
   "execution_count": 51,
   "metadata": {},
   "outputs": [],
   "source": [
    "df_2023 = df[df['endTime'].str.contains(\"2023\")]"
   ]
  },
  {
   "cell_type": "code",
   "execution_count": 52,
   "metadata": {},
   "outputs": [],
   "source": [
    "summary_2023 = df_2023.groupby(['artistName','trackName']).sum().reset_index()\n",
    "summary_2023['minutes'] = summary_2023['msPlayed'].apply(lambda x: x/60000)\n",
    "summary_2023['hours'] = summary_2023['minutes'].apply(lambda x: x/60)"
   ]
  },
  {
   "cell_type": "code",
   "execution_count": 53,
   "metadata": {},
   "outputs": [],
   "source": [
    "summary_artist_2023 = df_2023.groupby(['artistName']).sum().reset_index()\n",
    "summary_artist_2023['minutes'] = summary_artist_2023['msPlayed'].apply(lambda x: x/60000)\n",
    "summary_artist_2023['hours'] = summary_artist_2023['minutes'].apply(lambda x: x/60)"
   ]
  },
  {
   "cell_type": "code",
   "execution_count": 80,
   "metadata": {},
   "outputs": [
    {
     "name": "stdout",
     "output_type": "stream",
     "text": [
      "73061.80151666667  mins\n",
      "1217.6966919444446  hours\n",
      "20.850970752473366 % of the awake year\n"
     ]
    }
   ],
   "source": [
    "mins = df['msPlayed'].sum()/60000\n",
    "hours = mins/60\n",
    "print(mins,' mins')\n",
    "print(hours,' hours')\n",
    "print(100 * (3/2) * mins/525600,'% of the awake year')"
   ]
  },
  {
   "cell_type": "code",
   "execution_count": 32,
   "metadata": {},
   "outputs": [
    {
     "data": {
      "text/html": [
       "<div>\n",
       "<style scoped>\n",
       "    .dataframe tbody tr th:only-of-type {\n",
       "        vertical-align: middle;\n",
       "    }\n",
       "\n",
       "    .dataframe tbody tr th {\n",
       "        vertical-align: top;\n",
       "    }\n",
       "\n",
       "    .dataframe thead th {\n",
       "        text-align: right;\n",
       "    }\n",
       "</style>\n",
       "<table border=\"1\" class=\"dataframe\">\n",
       "  <thead>\n",
       "    <tr style=\"text-align: right;\">\n",
       "      <th></th>\n",
       "      <th>artistName</th>\n",
       "      <th>trackName</th>\n",
       "      <th>msPlayed</th>\n",
       "    </tr>\n",
       "  </thead>\n",
       "  <tbody>\n",
       "    <tr>\n",
       "      <th>0</th>\n",
       "      <td>!!!</td>\n",
       "      <td>Even When The Water's Cold</td>\n",
       "      <td>966060</td>\n",
       "    </tr>\n",
       "    <tr>\n",
       "      <th>1</th>\n",
       "      <td>!!!</td>\n",
       "      <td>Jamie, My Intentions Are Bass</td>\n",
       "      <td>16068</td>\n",
       "    </tr>\n",
       "    <tr>\n",
       "      <th>2</th>\n",
       "      <td>\"Les Misérables Original London Cast\" Ensemble</td>\n",
       "      <td>One Day More</td>\n",
       "      <td>16960</td>\n",
       "    </tr>\n",
       "    <tr>\n",
       "      <th>3</th>\n",
       "      <td>$atori Zoom</td>\n",
       "      <td>BUSTER</td>\n",
       "      <td>60</td>\n",
       "    </tr>\n",
       "    <tr>\n",
       "      <th>4</th>\n",
       "      <td>$uicideboy$</td>\n",
       "      <td>...And to Those I Love, Thanks for Sticking Ar...</td>\n",
       "      <td>12898</td>\n",
       "    </tr>\n",
       "    <tr>\n",
       "      <th>...</th>\n",
       "      <td>...</td>\n",
       "      <td>...</td>\n",
       "      <td>...</td>\n",
       "    </tr>\n",
       "    <tr>\n",
       "      <th>32318</th>\n",
       "      <td>박혜진 Park Hye Jin</td>\n",
       "      <td>CLOUDS</td>\n",
       "      <td>241080</td>\n",
       "    </tr>\n",
       "    <tr>\n",
       "      <th>32319</th>\n",
       "      <td>박혜진 Park Hye Jin</td>\n",
       "      <td>Let’s Sing Let’s Dance</td>\n",
       "      <td>98184</td>\n",
       "    </tr>\n",
       "    <tr>\n",
       "      <th>32320</th>\n",
       "      <td>박혜진 Park Hye Jin</td>\n",
       "      <td>Like this</td>\n",
       "      <td>430786</td>\n",
       "    </tr>\n",
       "    <tr>\n",
       "      <th>32321</th>\n",
       "      <td>박혜진 Park Hye Jin</td>\n",
       "      <td>Y DON'T U</td>\n",
       "      <td>23220</td>\n",
       "    </tr>\n",
       "    <tr>\n",
       "      <th>32322</th>\n",
       "      <td>･ ･－･ ･－ ･･･ ･ －･･</td>\n",
       "      <td>・-・・ ・ - ・・ - --・ ---</td>\n",
       "      <td>92592</td>\n",
       "    </tr>\n",
       "  </tbody>\n",
       "</table>\n",
       "<p>32323 rows × 3 columns</p>\n",
       "</div>"
      ],
      "text/plain": [
       "                                           artistName  \\\n",
       "0                                                 !!!   \n",
       "1                                                 !!!   \n",
       "2      \"Les Misérables Original London Cast\" Ensemble   \n",
       "3                                         $atori Zoom   \n",
       "4                                         $uicideboy$   \n",
       "...                                               ...   \n",
       "32318                                박혜진 Park Hye Jin   \n",
       "32319                                박혜진 Park Hye Jin   \n",
       "32320                                박혜진 Park Hye Jin   \n",
       "32321                                박혜진 Park Hye Jin   \n",
       "32322                              ･ ･－･ ･－ ･･･ ･ －･･   \n",
       "\n",
       "                                               trackName  msPlayed  \n",
       "0                             Even When The Water's Cold    966060  \n",
       "1                          Jamie, My Intentions Are Bass     16068  \n",
       "2                                           One Day More     16960  \n",
       "3                                                 BUSTER        60  \n",
       "4      ...And to Those I Love, Thanks for Sticking Ar...     12898  \n",
       "...                                                  ...       ...  \n",
       "32318                                             CLOUDS    241080  \n",
       "32319                             Let’s Sing Let’s Dance     98184  \n",
       "32320                                          Like this    430786  \n",
       "32321                                          Y DON'T U     23220  \n",
       "32322                              ・-・・ ・ - ・・ - --・ ---     92592  \n",
       "\n",
       "[32323 rows x 3 columns]"
      ]
     },
     "execution_count": 32,
     "metadata": {},
     "output_type": "execute_result"
    }
   ],
   "source": [
    "summary"
   ]
  }
 ],
 "metadata": {
  "kernelspec": {
   "display_name": "Python 3",
   "language": "python",
   "name": "python3"
  },
  "language_info": {
   "codemirror_mode": {
    "name": "ipython",
    "version": 3
   },
   "file_extension": ".py",
   "mimetype": "text/x-python",
   "name": "python",
   "nbconvert_exporter": "python",
   "pygments_lexer": "ipython3",
   "version": "3.8.5"
  },
  "orig_nbformat": 4
 },
 "nbformat": 4,
 "nbformat_minor": 2
}
