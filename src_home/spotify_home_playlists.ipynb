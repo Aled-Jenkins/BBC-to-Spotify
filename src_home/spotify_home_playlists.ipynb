{
 "cells": [
  {
   "cell_type": "code",
   "execution_count": 1,
   "metadata": {},
   "outputs": [
    {
     "name": "stderr",
     "output_type": "stream",
     "text": [
      "/opt/anaconda3/lib/python3.8/site-packages/tqdm/std.py:697: FutureWarning: The Panel class is removed from pandas. Accessing it from the top-level namespace will also be removed in the next version\n",
      "  from pandas import Panel\n"
     ]
    }
   ],
   "source": [
    "import spotipy\n",
    "import pandas as pd\n",
    "import numpy as np\n",
    "import spotipy\n",
    "import hashlib\n",
    "from datetime import date\n",
    "from datetime import timedelta\n",
    "from datetime import datetime\n",
    "from spotipy.oauth2 import SpotifyClientCredentials\n",
    "from spotipy.oauth2 import SpotifyOAuth\n",
    "from dotenv import load_dotenv\n",
    "import re\n",
    "import math\n",
    "from tqdm import tqdm\n",
    "from tqdm.notebook import tqdm_notebook\n",
    "from fuzzywuzzy import fuzz\n",
    "tqdm_notebook.pandas()\n",
    "\n",
    "load_dotenv('../secrets/.env', override=True)\n",
    "\n",
    "scope = [\"playlist-modify-private\",\"playlist-read-private\",\"user-library-modify\",\"user-library-read\",\"user-top-read\"]\n",
    "\n",
    "spotify = spotipy.Spotify(auth_manager=SpotifyOAuth(scope=scope))\n",
    "\n",
    "my_id = spotify.current_user()['id']\n",
    "\n",
    "%run ../src/useful_functions.ipynb\n",
    "%run ../src/spotify_scraping.ipynb\n",
    "%run ../src/spotify_scraping_playlists.ipynb"
   ]
  },
  {
   "cell_type": "code",
   "execution_count": 2,
   "metadata": {},
   "outputs": [],
   "source": [
    "tracks = get_spotify_tracks()\n",
    "albums = get_spotify_albums()\n",
    "artists = get_spotify_artists()\n",
    "playlists = get_spotify_playlists()\n",
    "playlist_tracks = get_spotify_playlist_tracks()\n",
    "library = get_spotify_library()\n",
    "top_tracks = get_spotify_top_tracks()"
   ]
  },
  {
   "cell_type": "code",
   "execution_count": 3,
   "metadata": {},
   "outputs": [
    {
     "name": "stderr",
     "output_type": "stream",
     "text": [
      "11050it [04:17, 60.00it/s]                           "
     ]
    },
    {
     "data": {
      "text/html": [
       "<div>\n",
       "<style scoped>\n",
       "    .dataframe tbody tr th:only-of-type {\n",
       "        vertical-align: middle;\n",
       "    }\n",
       "\n",
       "    .dataframe tbody tr th {\n",
       "        vertical-align: top;\n",
       "    }\n",
       "\n",
       "    .dataframe thead th {\n",
       "        text-align: right;\n",
       "    }\n",
       "</style>\n",
       "<table border=\"1\" class=\"dataframe\">\n",
       "  <thead>\n",
       "    <tr style=\"text-align: right;\">\n",
       "      <th></th>\n",
       "      <th>Track ID</th>\n",
       "    </tr>\n",
       "  </thead>\n",
       "  <tbody>\n",
       "    <tr>\n",
       "      <th>0</th>\n",
       "      <td>4OMJGnvZfDvsePyCwRGO7X</td>\n",
       "    </tr>\n",
       "    <tr>\n",
       "      <th>0</th>\n",
       "      <td>4Q5LWPIKCuV6LRdDeqOYM7</td>\n",
       "    </tr>\n",
       "    <tr>\n",
       "      <th>0</th>\n",
       "      <td>6bniCXManaPDnCN34waQs6</td>\n",
       "    </tr>\n",
       "    <tr>\n",
       "      <th>0</th>\n",
       "      <td>6IrfhO8WryAM3zdXt9sIJR</td>\n",
       "    </tr>\n",
       "    <tr>\n",
       "      <th>0</th>\n",
       "      <td>2ymCaPd4ojF9H8hzIz2NJd</td>\n",
       "    </tr>\n",
       "    <tr>\n",
       "      <th>...</th>\n",
       "      <td>...</td>\n",
       "    </tr>\n",
       "    <tr>\n",
       "      <th>0</th>\n",
       "      <td>72kdzT0WS77s10faqHsuTa</td>\n",
       "    </tr>\n",
       "    <tr>\n",
       "      <th>0</th>\n",
       "      <td>77Fy0ESsBo6GrB2EqZVjMg</td>\n",
       "    </tr>\n",
       "    <tr>\n",
       "      <th>0</th>\n",
       "      <td>78rIJddV4X0HkNAInEcYde</td>\n",
       "    </tr>\n",
       "    <tr>\n",
       "      <th>0</th>\n",
       "      <td>7AwvxYLlFmdoz0hQgyKtNU</td>\n",
       "    </tr>\n",
       "    <tr>\n",
       "      <th>0</th>\n",
       "      <td>7cBhzkTWSpHBGAiCZzSika</td>\n",
       "    </tr>\n",
       "  </tbody>\n",
       "</table>\n",
       "<p>11001 rows × 1 columns</p>\n",
       "</div>"
      ],
      "text/plain": [
       "                  Track ID\n",
       "0   4OMJGnvZfDvsePyCwRGO7X\n",
       "0   4Q5LWPIKCuV6LRdDeqOYM7\n",
       "0   6bniCXManaPDnCN34waQs6\n",
       "0   6IrfhO8WryAM3zdXt9sIJR\n",
       "0   2ymCaPd4ojF9H8hzIz2NJd\n",
       "..                     ...\n",
       "0   72kdzT0WS77s10faqHsuTa\n",
       "0   77Fy0ESsBo6GrB2EqZVjMg\n",
       "0   78rIJddV4X0HkNAInEcYde\n",
       "0   7AwvxYLlFmdoz0hQgyKtNU\n",
       "0   7cBhzkTWSpHBGAiCZzSika\n",
       "\n",
       "[11001 rows x 1 columns]"
      ]
     },
     "execution_count": 3,
     "metadata": {},
     "output_type": "execute_result"
    }
   ],
   "source": [
    "get_library(max=20000, without_duplicates=False)\n",
    "#library = library.drop_duplicates(subset='Track ID', keep='last')\n",
    "#temp = library.groupby(['Track ID'])['Track ID'].count()\n",
    "#temp = pd.DataFrame(temp[temp > 1].index).merge(tracks, how = 'left', on = 'Track ID')"
   ]
  },
  {
   "cell_type": "code",
   "execution_count": 5,
   "metadata": {},
   "outputs": [],
   "source": [
    "offset = 0\n",
    "total = 1000\n",
    "temp = pd.DataFrame()\n",
    "\n",
    "while offset<total:\n",
    "    temp_playlists = spotify.current_user_playlists(limit=50, offset=offset)\n",
    "    temp = pd.concat([temp,pd.DataFrame.from_dict({'Playlist ID': [x['id'] for x in temp_playlists['items']],\n",
    "                                                   'Playlist Name': [x['name'] for x in temp_playlists['items']],\n",
    "                                                   'Playlist Description': [x['description'] for x in temp_playlists['items']]})])\n",
    "    if offset == 0:\n",
    "        total = temp_playlists['total']\n",
    "    offset += 50\n",
    "\n",
    "del(offset, total, temp_playlists)"
   ]
  },
  {
   "cell_type": "code",
   "execution_count": 8,
   "metadata": {},
   "outputs": [
    {
     "name": "stderr",
     "output_type": "stream",
     "text": [
      "100%|██████████| 38/38 [02:38<00:00,  4.17s/it]\n"
     ]
    }
   ],
   "source": [
    "playlists_to_run = list(temp[[((x == '**') or (x[0:3] == '** ')) for x in temp['Playlist Description']]]['Playlist ID']) \n",
    "for playlist_id in tqdm(playlists_to_run):\n",
    "    get_playlist(playlist_id, with_tracks = True)\n"
   ]
  },
  {
   "cell_type": "code",
   "execution_count": 9,
   "metadata": {},
   "outputs": [
    {
     "name": "stderr",
     "output_type": "stream",
     "text": [
      "100%|██████████| 5/5 [04:32<00:00, 54.54s/it] \n"
     ]
    }
   ],
   "source": [
    "playlists_to_run = list(temp[[((x == '*****') or (x[0:6] == '***** ')) for x in temp['Playlist Description']]]['Playlist ID']) \n",
    "for playlist_id in tqdm(playlists_to_run):\n",
    "    get_playlist(playlist_id, with_tracks = True)"
   ]
  },
  {
   "cell_type": "code",
   "execution_count": 17,
   "metadata": {},
   "outputs": [],
   "source": [
    "playlists_to_run = list(pd.merge(pd.DataFrame([\"New Music Friday UK\",\n",
    "                            \"🆕🎧 New Alternative 40 Chart [Official] | Updated Weekly\",\n",
    "                            \"Best tracks from 2023 albums \",\n",
    "                            \"Hot Tracks - 2023's best new singles\",\n",
    "                            \"The Times Essential Tracks\",\n",
    "                            \"The Needle Drop Weekly Track Roundup -  Fantano’s Best, Mehst and Worst New Tracks\",\n",
    "                            \"Discover Weekly\",\n",
    "                            \"Release Radar\",\n",
    "                            \"R1 Weekly Playlist\",\n",
    "                            \"BBC Radio 6 Music 2023\",\n",
    "                            #\"Indie Show with Jack Saunders\",\n",
    "                            #\"Radio 1's Future Sounds with Clara Amfo\",\n",
    "                            #\"Radio 1's Future Artists with Jack Saunders\",\n",
    "                            #\"Radio 1's Future Alternative\",\n",
    "                            #\"Radio 1's Chillest Show\",\n",
    "                            #\"BBC Introducing on Radio 1\",\n",
    "                            #\"Radio 1's Power Down Playlist with Sian Eleri\",\n",
    "                            #\"New Music Fix\",\n",
    "                            #\"Steve Lamacq\",\n",
    "                            \"Top Tracks\",\n",
    "                            \"On Repeat\",\n",
    "                            \"Repeat Rewind\"\n",
    "                            ], columns = [\"Playlist Name\"]),temp, on = 'Playlist Name', how = 'left')['Playlist ID'])"
   ]
  },
  {
   "cell_type": "code",
   "execution_count": 10,
   "metadata": {},
   "outputs": [],
   "source": [
    "for playlist_id in tqdm(playlists_to_run):\n",
    "    get_playlist(playlist_id, with_tracks = True)\n",
    "\n",
    "get_top_tracks()\n",
    "\n",
    "del(temp, playlists_to_run)"
   ]
  },
  {
   "cell_type": "code",
   "execution_count": 11,
   "metadata": {},
   "outputs": [],
   "source": [
    "mapping_df = tracks.merge(library, on='Track ID', how='left',indicator = True)\n",
    "mapping_df = mapping_df[mapping_df['Is Track Local'] == False]\n",
    "mapping_df = mapping_df.merge(mapping_df[(mapping_df['_merge'] == 'both')][[\"Track External ID's\",\"Track ID\"]], on = [\"Track External ID's\"], how='left', suffixes=[\"\",\" Mapped\"])\n",
    "mapping_df = (\n",
    "    mapping_df.merge(mapping_df[pd.isna(mapping_df['Track ID Mapped'])]\n",
    "                     .groupby([\"Track External ID's\",])[[\"Track External ID's\",'Track ID','Track Popularity']]\n",
    "                     .apply(lambda x: x.sort_values(by = ['Track Popularity'], ascending=False).head(1))\n",
    "                     .reset_index(drop = True)[[\"Track External ID's\", \"Track ID\"]], on = [\"Track External ID's\"], how='left', suffixes=[\"\",\" Mapped New\"])\n",
    ")\n",
    "mapping_df['Track ID Mapped'] = mapping_df.apply(lambda x: x['Track ID Mapped'] if not pd.isna(x['Track ID Mapped']) else x['Track ID Mapped New'], axis=1)\n",
    "#mapping_df['Track ID Mapped'] = mapping_df.apply(lambda x: x['Track ID'] if pd.isna(x['Track ID Mapped']) else x['Track ID Mapped'], axis=1)\n",
    "test_df = mapping_df.groupby(['Track ID', \"Track External ID's\"]).agg('count')\n",
    "test_df = test_df[test_df['Track ID Mapped'] > 1].sort_values(by=['Track Name']).reset_index()\n",
    "mapping_df = mapping_df[['Track ID', 'Track ID Mapped']]\n",
    "\n",
    "if test_df.size == 0:\n",
    "    del(test_df)\n",
    "else:\n",
    "    print('Number of Errors: ',test_df.size)"
   ]
  },
  {
   "cell_type": "code",
   "execution_count": 12,
   "metadata": {},
   "outputs": [],
   "source": [
    "sorted = playlist_tracks.merge(playlists, how = 'left', left_on = 'Playlist ID', right_on = 'id')\n",
    "sorted = (\n",
    "    sorted[((sorted['description'] == \"**\") | (sorted['description'].apply(lambda x: x[0:3] == \"** \")))]\n",
    "    .merge(library, how = 'outer', on = 'Track ID', indicator = True)\n",
    "    .merge(mapping_df, how = 'left', on = 'Track ID')\n",
    "    .merge(tracks, how = 'left', on = 'Track ID')\n",
    "    .merge(albums, how = 'left', on = 'Album ID')\n",
    ")"
   ]
  },
  {
   "cell_type": "code",
   "execution_count": 25,
   "metadata": {},
   "outputs": [],
   "source": [
    "playlists_to_add = pd.DataFrame([\"New Music Friday UK\",\n",
    "                            \"🆕🎧 New Alternative 40 Chart [Official] | Updated Weekly\",\n",
    "                            \"Best tracks from 2023 albums \",\n",
    "                            \"Hot Tracks - 2023's best new singles\",\n",
    "                            \"The Times Essential Tracks\",\n",
    "                            \"The Needle Drop Weekly Track Roundup -  Fantano’s Best, Mehst and Worst New Tracks\",\n",
    "                            \"Discover Weekly\",\n",
    "                            \"Release Radar\",\n",
    "                            \"R1 Weekly Playlist\",\n",
    "                            \"BBC Radio 6 Music 2023\",\n",
    "                            \"Indie Show with Jack Saunders\",\n",
    "                            \"Radio 1's Future Sounds with Clara Amfo\",\n",
    "                            \"Radio 1's Future Artists with Jack Saunders\",\n",
    "                            \"Radio 1's Future Alternative\",\n",
    "                            \"Radio 1's Chillest Show\",\n",
    "                            \"Radio 1's Power Down Playlist with Sian Eleri\",\n",
    "                            \"BBC Introducing on Radio 1\",\n",
    "                            \"New Music Fix\",\n",
    "                            \"Steve Lamacq\",\n",
    "                            ], columns = [\"name\"])\n",
    "\n",
    "playlists_to_add = pd.merge(playlists_to_add,playlists, on = 'name', how = 'left')['id']\n",
    "playlists_to_add = pd.merge(playlists_to_add,playlist_tracks, left_on = 'id', right_on = 'Playlist ID', how = 'left')"
   ]
  },
  {
   "cell_type": "code",
   "execution_count": 26,
   "metadata": {},
   "outputs": [
    {
     "name": "stdout",
     "output_type": "stream",
     "text": [
      "Adding Tracks From:  2023-11-07T12:58:56Z  To:  2023-11-07T12:59:22Z\n"
     ]
    }
   ],
   "source": [
    "current_date_time = (datetime.today()).strftime('%Y-%m-%dT%H:%M:%SZ')\n",
    "\n",
    "with open('./date.txt', 'r+') as f:\n",
    "    last_date_time = f.read()\n",
    "    f.seek(0)\n",
    "    f.write(current_date_time)\n",
    "    f.close()\n",
    "    \n",
    "print('Adding Tracks From: ', last_date_time, ' To: ', current_date_time)\n",
    "\n",
    "tracks_to_add = playlists_to_add[playlists_to_add['Date Added']>=last_date_time][['Track ID']].drop_duplicates()\n",
    "tracks_to_add['Playlist ID'] = '65jX0kBNpAEO7TcDQrkDai'\n",
    "tracks_to_add['name'] = 'TBC'\n",
    "tracks_to_add['Position Number'] = np.arange(len(tracks_to_add))\n",
    "tracks_to_add['Date Added'] = date.today()\n",
    "tracks_to_add['description'] = \"*****\"\n",
    "\n",
    "del(f, playlists_to_add)"
   ]
  },
  {
   "cell_type": "code",
   "execution_count": 15,
   "metadata": {},
   "outputs": [],
   "source": [
    "temp = playlist_tracks.merge(playlists, how = 'left', left_on = 'Playlist ID', right_on = 'id')\n",
    "temp = temp[((temp['description'] == \"*****\") | (temp['description'].apply(lambda x: x[0:6] == \"***** \")))]\n",
    "temp = temp.append(tracks_to_add)\n",
    "temp = (\n",
    "    temp.merge(library, how = 'left', on = 'Track ID', indicator = True)\n",
    "    .merge(mapping_df, how = 'left', on = 'Track ID')\n",
    "    .merge(tracks, how = 'left', on = 'Track ID')\n",
    ")\n",
    "\n",
    "custom_dict = {'To Listen To Albums': 0, \n",
    "               'To Listen To': 2, \n",
    "               'To Listen To Vol 2': 3,\n",
    "               'To Listen To Best of 2023': 1} \n",
    "\n",
    "temp = temp[temp['name'] != 'Albums to Listen To']\n",
    "temp.sort_values(by = 'name', key=lambda x: x.map(custom_dict), inplace=True)\n",
    "temp = temp[temp['name'] != 'To Listen To Albums']\n",
    "temp = temp.groupby('Track ID Mapped').head(1)[['Track ID', 'Track ID Mapped', 'Playlist ID', 'Position Number', 'name', 'Track Name', '_merge']]\n",
    "#temp = temp[temp['name'] != 'To Listen To Albums']\n",
    "temp = temp.merge(temp[['Track ID', '_merge']].rename(columns = {'Track ID': 'Track ID Mapped', '_merge': '_merge Mapped'}), how = 'left', on = 'Track ID Mapped')\n",
    "\n",
    "del(custom_dict)"
   ]
  },
  {
   "cell_type": "code",
   "execution_count": 17,
   "metadata": {},
   "outputs": [
    {
     "name": "stderr",
     "output_type": "stream",
     "text": [
      "100%|██████████| 3/3 [07:12<00:00, 144.20s/it]\n"
     ]
    }
   ],
   "source": [
    "for playlist_id in tqdm(list(temp['Playlist ID'].drop_duplicates())):\n",
    "    \n",
    "    df = temp[temp['Playlist ID'] == playlist_id]\n",
    "    df = df[((df['_merge'] != 'both') & (df['_merge Mapped'] != 'both'))]\n",
    "    new_tracks = list(df['Track ID Mapped'])\n",
    "    edit_playlist_tracks(playlist_id, new_tracks, order=False)\n",
    "    \n",
    "del(df, temp, new_tracks, playlist_id)"
   ]
  },
  {
   "cell_type": "code",
   "execution_count": 29,
   "metadata": {},
   "outputs": [
    {
     "name": "stderr",
     "output_type": "stream",
     "text": [
      "  0%|          | 0/38 [00:00<?, ?it/s]"
     ]
    },
    {
     "name": "stdout",
     "output_type": "stream",
     "text": [
      "3j9PgqJK0oJFgk5caq828C\n"
     ]
    },
    {
     "name": "stderr",
     "output_type": "stream",
     "text": [
      "100%|██████████| 72/72 [00:00<00:00, 85816.96it/s]\n",
      "  3%|▎         | 1/38 [00:03<01:53,  3.06s/it]"
     ]
    },
    {
     "name": "stdout",
     "output_type": "stream",
     "text": [
      "30JEXgyxPC3vl06wlDovbZ\n"
     ]
    },
    {
     "name": "stderr",
     "output_type": "stream",
     "text": [
      "100%|██████████| 22/22 [00:00<00:00, 64302.92it/s]\n",
      "  5%|▌         | 2/38 [00:05<01:42,  2.85s/it]"
     ]
    },
    {
     "name": "stdout",
     "output_type": "stream",
     "text": [
      "2rpt5fRMx227t1MHhWenL7\n"
     ]
    },
    {
     "name": "stderr",
     "output_type": "stream",
     "text": [
      "100%|██████████| 32/32 [00:00<00:00, 76915.60it/s]\n",
      "  8%|▊         | 3/38 [00:07<01:29,  2.57s/it]"
     ]
    },
    {
     "name": "stdout",
     "output_type": "stream",
     "text": [
      "5363CV3T60ekd745HYwnGQ\n"
     ]
    },
    {
     "name": "stderr",
     "output_type": "stream",
     "text": [
      "100%|██████████| 961/961 [00:00<00:00, 111874.49it/s]\n",
      " 11%|█         | 4/38 [00:29<04:43,  8.34s/it]"
     ]
    },
    {
     "name": "stdout",
     "output_type": "stream",
     "text": [
      "1C15wdyWF08EJy11edNmAt\n"
     ]
    },
    {
     "name": "stderr",
     "output_type": "stream",
     "text": [
      "100%|██████████| 1417/1417 [00:00<00:00, 113504.62it/s]\n",
      " 13%|█▎        | 5/38 [00:57<07:52, 14.32s/it]"
     ]
    },
    {
     "name": "stdout",
     "output_type": "stream",
     "text": [
      "6lYTGWfXH73lmDSV2Vf66C\n"
     ]
    },
    {
     "name": "stderr",
     "output_type": "stream",
     "text": [
      "100%|██████████| 496/496 [00:00<00:00, 2178.01it/s]\n",
      " 16%|█▌        | 6/38 [01:08<07:11, 13.48s/it]"
     ]
    },
    {
     "name": "stdout",
     "output_type": "stream",
     "text": [
      "7DEjFvs10UqiWdwaRjhYJT\n"
     ]
    },
    {
     "name": "stderr",
     "output_type": "stream",
     "text": [
      "100%|██████████| 438/438 [00:00<00:00, 110138.20it/s]\n",
      " 18%|█▊        | 7/38 [01:18<06:25, 12.42s/it]"
     ]
    },
    {
     "name": "stdout",
     "output_type": "stream",
     "text": [
      "0aigfXHuRKthhzhWgUpCFs\n"
     ]
    },
    {
     "name": "stderr",
     "output_type": "stream",
     "text": [
      "100%|██████████| 172/172 [00:00<00:00, 100644.57it/s]\n",
      " 21%|██        | 8/38 [01:23<05:03, 10.11s/it]"
     ]
    },
    {
     "name": "stdout",
     "output_type": "stream",
     "text": [
      "41J7pGR54AliSqoPvrWYRk\n"
     ]
    },
    {
     "name": "stderr",
     "output_type": "stream",
     "text": [
      "100%|██████████| 1014/1014 [00:00<00:00, 111490.40it/s]\n",
      " 24%|██▎       | 9/38 [01:45<06:35, 13.64s/it]"
     ]
    },
    {
     "name": "stdout",
     "output_type": "stream",
     "text": [
      "6uuGGM3XtUqUcdSeuXXzfc\n"
     ]
    },
    {
     "name": "stderr",
     "output_type": "stream",
     "text": [
      "100%|██████████| 208/208 [00:00<00:00, 103122.37it/s]\n",
      " 26%|██▋       | 10/38 [01:50<05:12, 11.17s/it]"
     ]
    },
    {
     "name": "stdout",
     "output_type": "stream",
     "text": [
      "6pXPVnvOkCVwu6J6ULiPst\n"
     ]
    },
    {
     "name": "stderr",
     "output_type": "stream",
     "text": [
      "100%|██████████| 80/80 [00:00<00:00, 90272.89it/s]\n",
      " 29%|██▉       | 11/38 [01:53<03:52,  8.61s/it]"
     ]
    },
    {
     "name": "stdout",
     "output_type": "stream",
     "text": [
      "3ByY7gYIYY923L4yS7Jk3f\n"
     ]
    },
    {
     "name": "stderr",
     "output_type": "stream",
     "text": [
      "100%|██████████| 379/379 [00:00<00:00, 2241.97it/s]\n",
      " 32%|███▏      | 12/38 [02:02<03:44,  8.62s/it]"
     ]
    },
    {
     "name": "stdout",
     "output_type": "stream",
     "text": [
      "3VB2Iwyeu8MqeQBJA8uoN8\n"
     ]
    },
    {
     "name": "stderr",
     "output_type": "stream",
     "text": [
      "100%|██████████| 324/324 [00:00<00:00, 109056.62it/s]\n",
      " 34%|███▍      | 13/38 [02:10<03:30,  8.41s/it]"
     ]
    },
    {
     "name": "stdout",
     "output_type": "stream",
     "text": [
      "5qjPs5wPl7LMbrtGuQNgrF\n"
     ]
    },
    {
     "name": "stderr",
     "output_type": "stream",
     "text": [
      "100%|██████████| 255/255 [00:00<00:00, 101110.56it/s]\n",
      " 37%|███▋      | 14/38 [02:16<03:05,  7.74s/it]"
     ]
    },
    {
     "name": "stdout",
     "output_type": "stream",
     "text": [
      "4nKupeRnwn8qQeIlCsRMtn\n"
     ]
    },
    {
     "name": "stderr",
     "output_type": "stream",
     "text": [
      "100%|██████████| 61/61 [00:00<00:00, 86641.57it/s]\n",
      " 39%|███▉      | 15/38 [02:18<02:20,  6.09s/it]"
     ]
    },
    {
     "name": "stdout",
     "output_type": "stream",
     "text": [
      "4dBVOkwimm4OcU7Uah8gXe\n"
     ]
    },
    {
     "name": "stderr",
     "output_type": "stream",
     "text": [
      "100%|██████████| 52/52 [00:00<00:00, 86411.97it/s]\n",
      " 42%|████▏     | 16/38 [02:20<01:47,  4.89s/it]"
     ]
    },
    {
     "name": "stdout",
     "output_type": "stream",
     "text": [
      "6lNwAW2HFt67rDbH6hKtCZ\n"
     ]
    },
    {
     "name": "stderr",
     "output_type": "stream",
     "text": [
      "100%|██████████| 101/101 [00:00<00:00, 95886.08it/s]\n",
      " 45%|████▍     | 17/38 [02:24<01:33,  4.47s/it]"
     ]
    },
    {
     "name": "stdout",
     "output_type": "stream",
     "text": [
      "0XshXyyhFVYDXjJ3YoCTfr\n"
     ]
    },
    {
     "name": "stderr",
     "output_type": "stream",
     "text": [
      "100%|██████████| 703/703 [00:00<00:00, 112408.82it/s]\n",
      " 47%|████▋     | 18/38 [02:39<02:35,  7.78s/it]"
     ]
    },
    {
     "name": "stdout",
     "output_type": "stream",
     "text": [
      "7ajFeKwC4xOW679vRYThOy\n"
     ]
    },
    {
     "name": "stderr",
     "output_type": "stream",
     "text": [
      "100%|██████████| 80/80 [00:00<00:00, 91653.73it/s]\n",
      " 50%|█████     | 19/38 [02:43<02:03,  6.48s/it]"
     ]
    },
    {
     "name": "stdout",
     "output_type": "stream",
     "text": [
      "6pWHYPH0dwRDuLcfDyGi4S\n"
     ]
    },
    {
     "name": "stderr",
     "output_type": "stream",
     "text": [
      "100%|██████████| 73/73 [00:00<00:00, 88262.96it/s]\n",
      " 53%|█████▎    | 20/38 [02:45<01:36,  5.36s/it]"
     ]
    },
    {
     "name": "stdout",
     "output_type": "stream",
     "text": [
      "12Hrtkftnmg6T29jkzKaqv\n"
     ]
    },
    {
     "name": "stderr",
     "output_type": "stream",
     "text": [
      "100%|██████████| 382/382 [00:00<00:00, 105673.67it/s]\n",
      " 55%|█████▌    | 21/38 [02:54<01:48,  6.37s/it]"
     ]
    },
    {
     "name": "stdout",
     "output_type": "stream",
     "text": [
      "1YAtfCeFoDZ1igZZ5e4dak\n"
     ]
    },
    {
     "name": "stderr",
     "output_type": "stream",
     "text": [
      "100%|██████████| 385/385 [00:00<00:00, 107453.22it/s]\n",
      " 58%|█████▊    | 22/38 [03:03<01:52,  7.04s/it]"
     ]
    },
    {
     "name": "stdout",
     "output_type": "stream",
     "text": [
      "6UUXdgFb96xOMstk4gAaI5\n"
     ]
    },
    {
     "name": "stderr",
     "output_type": "stream",
     "text": [
      "100%|██████████| 824/824 [00:00<00:00, 112690.55it/s]\n",
      " 61%|██████    | 23/38 [03:21<02:38, 10.57s/it]"
     ]
    },
    {
     "name": "stdout",
     "output_type": "stream",
     "text": [
      "4cx7tiLT2NpLUdUV2FYjqU\n"
     ]
    },
    {
     "name": "stderr",
     "output_type": "stream",
     "text": [
      "100%|██████████| 161/161 [00:00<00:00, 102269.11it/s]\n",
      " 63%|██████▎   | 24/38 [03:26<02:04,  8.87s/it]"
     ]
    },
    {
     "name": "stdout",
     "output_type": "stream",
     "text": [
      "4kbhaF2ZzPsL7xeA8jCcy0\n"
     ]
    },
    {
     "name": "stderr",
     "output_type": "stream",
     "text": [
      "100%|██████████| 224/224 [00:00<00:00, 107080.48it/s]\n",
      " 66%|██████▌   | 25/38 [03:33<01:47,  8.25s/it]"
     ]
    },
    {
     "name": "stdout",
     "output_type": "stream",
     "text": [
      "6aHoOuSXlrIKSJDRIp8z8Y\n"
     ]
    },
    {
     "name": "stderr",
     "output_type": "stream",
     "text": [
      "100%|██████████| 579/579 [00:00<00:00, 110241.14it/s]\n",
      " 68%|██████▊   | 26/38 [03:46<01:54,  9.56s/it]"
     ]
    },
    {
     "name": "stdout",
     "output_type": "stream",
     "text": [
      "2CmetqKl9Ktonqr5cpOBVy\n"
     ]
    },
    {
     "name": "stderr",
     "output_type": "stream",
     "text": [
      "100%|██████████| 225/225 [00:00<00:00, 762.55it/s]\n",
      " 71%|███████   | 27/38 [03:52<01:33,  8.51s/it]"
     ]
    },
    {
     "name": "stdout",
     "output_type": "stream",
     "text": [
      "1aRaKf0LdmoH0QZuVc0NtA\n"
     ]
    },
    {
     "name": "stderr",
     "output_type": "stream",
     "text": [
      "100%|██████████| 264/264 [00:00<00:00, 104758.40it/s]\n",
      " 74%|███████▎  | 28/38 [03:59<01:20,  8.05s/it]"
     ]
    },
    {
     "name": "stdout",
     "output_type": "stream",
     "text": [
      "6U6LTvZbWAks6sgpm8PqZO\n"
     ]
    },
    {
     "name": "stderr",
     "output_type": "stream",
     "text": [
      "100%|██████████| 182/182 [00:00<00:00, 97679.25it/s]\n",
      " 76%|███████▋  | 29/38 [04:03<01:03,  7.00s/it]"
     ]
    },
    {
     "name": "stdout",
     "output_type": "stream",
     "text": [
      "3D0ghFydUP7g9MaigUGxxo\n"
     ]
    },
    {
     "name": "stderr",
     "output_type": "stream",
     "text": [
      "100%|██████████| 28/28 [00:00<00:00, 66500.86it/s]\n",
      " 79%|███████▉  | 30/38 [04:06<00:44,  5.58s/it]"
     ]
    },
    {
     "name": "stdout",
     "output_type": "stream",
     "text": [
      "7kT8H9BIeFkFeC5COmXybl\n"
     ]
    },
    {
     "name": "stderr",
     "output_type": "stream",
     "text": [
      "100%|██████████| 98/98 [00:00<00:00, 82771.20it/s]\n",
      " 82%|████████▏ | 31/38 [04:08<00:33,  4.77s/it]"
     ]
    },
    {
     "name": "stdout",
     "output_type": "stream",
     "text": [
      "0KzGoRyo1V7PD6M8KTsmEd\n"
     ]
    },
    {
     "name": "stderr",
     "output_type": "stream",
     "text": [
      "100%|██████████| 152/152 [00:00<00:00, 104053.24it/s]\n",
      " 84%|████████▍ | 32/38 [04:13<00:28,  4.82s/it]"
     ]
    },
    {
     "name": "stdout",
     "output_type": "stream",
     "text": [
      "3RfH5fP4dY0Ih0iHfmcZdj\n"
     ]
    },
    {
     "name": "stderr",
     "output_type": "stream",
     "text": [
      "100%|██████████| 176/176 [00:00<00:00, 104191.60it/s]\n",
      " 87%|████████▋ | 33/38 [04:19<00:24,  4.94s/it]"
     ]
    },
    {
     "name": "stdout",
     "output_type": "stream",
     "text": [
      "0srgImIz2tcOreif41xh9M\n"
     ]
    },
    {
     "name": "stderr",
     "output_type": "stream",
     "text": [
      "100%|██████████| 33/33 [00:00<00:00, 72886.80it/s]\n",
      " 89%|████████▉ | 34/38 [04:21<00:16,  4.08s/it]"
     ]
    },
    {
     "name": "stdout",
     "output_type": "stream",
     "text": [
      "59ZEv7OQTKzxkZMhXBugzt\n"
     ]
    },
    {
     "name": "stderr",
     "output_type": "stream",
     "text": [
      "100%|██████████| 59/59 [00:00<00:00, 84545.25it/s]\n",
      " 92%|█████████▏| 35/38 [04:23<00:11,  3.67s/it]"
     ]
    },
    {
     "name": "stdout",
     "output_type": "stream",
     "text": [
      "6c69Gu8vEomJPe692iXXLm\n"
     ]
    },
    {
     "name": "stderr",
     "output_type": "stream",
     "text": [
      "100%|██████████| 199/199 [00:00<00:00, 104581.69it/s]\n",
      " 95%|█████████▍| 36/38 [04:28<00:07,  3.98s/it]"
     ]
    },
    {
     "name": "stdout",
     "output_type": "stream",
     "text": [
      "12qJcBTJvKgsuokKEQxm0n\n"
     ]
    },
    {
     "name": "stderr",
     "output_type": "stream",
     "text": [
      "100%|██████████| 16/16 [00:00<00:00, 53515.84it/s]\n",
      " 97%|█████████▋| 37/38 [04:30<00:03,  3.32s/it]"
     ]
    },
    {
     "name": "stdout",
     "output_type": "stream",
     "text": [
      "2M9B5ewM3fuqJq83RyF9y6\n"
     ]
    },
    {
     "name": "stderr",
     "output_type": "stream",
     "text": [
      "100%|██████████| 61/61 [00:00<00:00, 50714.08it/s]\n",
      "100%|██████████| 38/38 [04:33<00:00,  7.18s/it]\n"
     ]
    }
   ],
   "source": [
    "for playlist_id in tqdm(list(sorted['Playlist ID'].drop_duplicates())):\n",
    "    \n",
    "    df = sorted[sorted['Playlist ID'] == playlist_id][['Track ID', 'Track Name', 'Playlist ID', 'Album Name', 'Track Number', 'Disc Number','Album Release Date']]\n",
    "    df.sort_values(by = ['Album Release Date', 'Album Name', 'Disc Number', 'Track Number'], ascending = [False, True, True, True], inplace=True)\n",
    "    new_tracks = list(df['Track ID'])\n",
    "    print(playlist_id)\n",
    "    edit_playlist_tracks(playlist_id, new_tracks, order=True)\n",
    "    \n",
    "del(df, new_tracks, playlist_id)"
   ]
  },
  {
   "cell_type": "code",
   "execution_count": 12,
   "metadata": {},
   "outputs": [],
   "source": [
    "playlist_tracks.to_pickle('../data/spotify_playlist_tracks.pkl')\n",
    "playlists.to_pickle('../data/spotify_playlists.pkl')\n",
    "tracks.to_pickle('../data/spotify_tracks.pkl')\n",
    "albums.to_pickle('../data/spotify_albums.pkl')\n",
    "artists.to_pickle('../data/spotify_artists.pkl')\n",
    "library.to_pickle('../data/spotify_library.pkl')\n",
    "top_tracks.to_pickle('../data/spotify_top_tracks.pkl')"
   ]
  },
  {
   "cell_type": "code",
   "execution_count": null,
   "metadata": {},
   "outputs": [],
   "source": [
    "###"
   ]
  },
  {
   "cell_type": "code",
   "execution_count": 15,
   "metadata": {},
   "outputs": [
    {
     "data": {
      "application/vnd.jupyter.widget-view+json": {
       "model_id": "80d66e77516e47019e01003136a3e902",
       "version_major": 2,
       "version_minor": 0
      },
      "text/plain": [
       "HBox(children=(HTML(value=''), FloatProgress(value=0.0, max=9891.0), HTML(value='')))"
      ]
     },
     "metadata": {},
     "output_type": "display_data"
    },
    {
     "name": "stdout",
     "output_type": "stream",
     "text": [
      "\n"
     ]
    }
   ],
   "source": [
    "def isrc_to_id(isrc):\n",
    "    try:\n",
    "        temp = spotify.search(q='isrc: ' + isrc, limit=1, type='track', market='GB')['tracks']['items'][0]\n",
    "        return (temp['album']['name'],temp['album']['release_date'],temp['name'],temp['id'])\n",
    "    except:\n",
    "        return False\n",
    "    \n",
    "sorted[['New Album Name', 'Release Date', 'New Track Name', 'Latest ID']] = sorted['Track External ID\\'s'].progress_apply(lambda x: pd.Series(isrc_to_id(x)))\n",
    "sorted.to_pickle('../data/sorted.pkl')"
   ]
  },
  {
   "cell_type": "code",
   "execution_count": 16,
   "metadata": {},
   "outputs": [],
   "source": [
    "sorted = pd.read_pickle('../data/sorted.pkl')"
   ]
  },
  {
   "cell_type": "code",
   "execution_count": 17,
   "metadata": {},
   "outputs": [],
   "source": [
    "sorted_wrong = sorted[(sorted['Track ID'] != sorted['Latest ID']) | (sorted['Track Name'] != sorted['New Track Name'])][['Track Name', 'Track External ID\\'s', 'Album Name', 'Album Release Date', 'Track ID', 'Track ID Mapped', 'Latest ID', 'Release Date','New Track Name', 'New Album Name']]\n",
    "#sorted_wrong = sorted\n",
    "\n",
    "sorted_wrong['New Track Name'].fillna(sorted_wrong['Track Name'], inplace=True)\n",
    "sorted_wrong['New Album Name'].fillna(sorted_wrong['Album Name'], inplace=True)\n",
    "sorted_wrong['Latest ID'].fillna(sorted_wrong['Track ID'], inplace=True)\n",
    "sorted_wrong['Release Date'].fillna(sorted_wrong['Album Release Date'], inplace=True)\n",
    "sorted_wrong = sorted_wrong.astype(str)\n",
    "\n",
    "sorted_wrong['Partial Ratio'] = sorted_wrong.apply(lambda x: fuzz.partial_ratio(x['Track Name'], x['New Track Name']), axis=1)\n",
    "sorted_wrong['Ratio'] = sorted_wrong.apply(lambda x: fuzz.ratio(x['Track Name'], x['New Track Name']), axis=1)\n",
    "sorted_wrong['WRatio'] = sorted_wrong.apply(lambda x: fuzz.WRatio(x['Track Name'], x['New Track Name']), axis=1)\n",
    "\n",
    "sorted_wrong['New Track Name'] = sorted_wrong.apply(lambda x: x['New Track Name'] if x['Partial Ratio']>70 else x['Track Name'], axis=1)\n",
    "sorted_wrong['New Album Name'] = sorted_wrong.apply(lambda x: x['New Album Name'] if x['Partial Ratio']>70 else x['Album Name'], axis=1)\n",
    "sorted_wrong['Latest ID'] = sorted_wrong.apply(lambda x: x['Latest ID'] if x['Partial Ratio']>70 else x['Track ID'], axis=1)\n",
    "sorted_wrong['Release Date'] = sorted_wrong.apply(lambda x: x['Release Date'] if x['Partial Ratio']>70 else x['Album Release Date'], axis=1)\n",
    "\n",
    "sorted_wrong['Partial Ratio'] = sorted_wrong.apply(lambda x: fuzz.partial_ratio(x['Track Name'], x['New Track Name']), axis=1)\n",
    "sorted_wrong['Ratio'] = sorted_wrong.apply(lambda x: fuzz.ratio(x['Track Name'], x['New Track Name']), axis=1)\n",
    "sorted_wrong['WRatio'] = sorted_wrong.apply(lambda x: fuzz.WRatio(x['Track Name'], x['New Track Name']), axis=1)"
   ]
  },
  {
   "cell_type": "code",
   "execution_count": 11,
   "metadata": {},
   "outputs": [],
   "source": [
    "#make_playlist(title, description)\n",
    "#edit_playlist_tracks(playlists[playlists['name'] == title]['id'][0], new_tracks)\n",
    "\n",
    "#edit_playlist_details(user=my_id, playlist_id = playlist_id, name = name', description = 'description')\n",
    "#get_playlist(playlist_id, with_tracks = False)\n",
    "#get_playlist(playlist_id = playlist_id)\n",
    "#delete_playlist(playlist_id = playlist_id)"
   ]
  }
 ],
 "metadata": {
  "kernelspec": {
   "display_name": "Python 3.8.5",
   "language": "python",
   "name": "python3"
  },
  "language_info": {
   "codemirror_mode": {
    "name": "ipython",
    "version": 3
   },
   "file_extension": ".py",
   "mimetype": "text/x-python",
   "name": "python",
   "nbconvert_exporter": "python",
   "pygments_lexer": "ipython3",
   "version": "3.8.5"
  },
  "orig_nbformat": 4,
  "vscode": {
   "interpreter": {
    "hash": "40d3a090f54c6569ab1632332b64b2c03c39dcf918b08424e98f38b5ae0af88f"
   }
  }
 },
 "nbformat": 4,
 "nbformat_minor": 2
}
