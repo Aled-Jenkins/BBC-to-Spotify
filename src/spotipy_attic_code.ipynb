{
 "cells": [
  {
   "cell_type": "code",
   "execution_count": 1,
   "metadata": {},
   "outputs": [],
   "source": [
    "import spotipy\n",
    "import pandas as pd\n",
    "import spotipy\n",
    "from spotipy.oauth2 import SpotifyClientCredentials\n",
    "from dotenv import load_dotenv\n",
    "import re\n",
    "\n",
    "load_dotenv('../secrets/.env', override=True)\n",
    "%run useful_functions.ipynb\n",
    "%run spotify_scraping.ipynb\n",
    "\n",
    "spotify = spotipy.Spotify(client_credentials_manager=SpotifyClientCredentials())\n"
   ]
  },
  {
   "cell_type": "code",
   "execution_count": 2,
   "metadata": {},
   "outputs": [
    {
     "name": "stdout",
     "output_type": "stream",
     "text": [
      "Young Heart\n",
      "Beautiful Lies\n",
      "Beautiful Lies\n",
      "Beautiful Lies (Deluxe)\n",
      "Beautiful Lies (Deluxe)\n",
      "Fire Within\n",
      "Fire Within\n",
      "Fire Within (Deluxe)\n",
      "Fire Within (Deluxe)\n",
      "Fire Within (Deluxe)\n",
      "Live in London\n",
      "Birdy\n",
      "Birdy\n",
      "Birdy\n",
      "Birdy\n",
      "Birdy (Deluxe Version)\n"
     ]
    }
   ],
   "source": [
    "birdy_uri = 'spotify:artist:2WX2uTcsvV5OnS0inACecP'\n",
    "\n",
    "\n",
    "results = spotify.artist_albums(birdy_uri, album_type='album')\n",
    "albums = results['items']\n",
    "while results['next']:\n",
    "    results = spotify.next(results)\n",
    "    albums.extend(results['items'])\n",
    "\n",
    "for album in albums:\n",
    "    print(album['name'])"
   ]
  },
  {
   "cell_type": "code",
   "execution_count": 3,
   "metadata": {},
   "outputs": [],
   "source": [
    "artistName = \"Loyle Carner\"\n",
    "trackName = \"Loose Ends\"\n",
    "(temp_tracks,temp_albums,temp_artists) = get_track_info(artistName,trackName)"
   ]
  },
  {
   "cell_type": "code",
   "execution_count": 4,
   "metadata": {},
   "outputs": [
    {
     "data": {
      "text/plain": [
       "{'tracks': {'href': 'https://api.spotify.com/v1/search?query=artist%3AArctic+Monkeys+track%3AThere%27d+Better+Be+A+Mirrorball&type=track&market=GB&offset=0&limit=1',\n",
       "  'items': [{'album': {'album_type': 'album',\n",
       "     'artists': [{'external_urls': {'spotify': 'https://open.spotify.com/artist/7Ln80lUS6He07XvHI8qqHH'},\n",
       "       'href': 'https://api.spotify.com/v1/artists/7Ln80lUS6He07XvHI8qqHH',\n",
       "       'id': '7Ln80lUS6He07XvHI8qqHH',\n",
       "       'name': 'Arctic Monkeys',\n",
       "       'type': 'artist',\n",
       "       'uri': 'spotify:artist:7Ln80lUS6He07XvHI8qqHH'}],\n",
       "     'external_urls': {'spotify': 'https://open.spotify.com/album/2GROf0WKoP5Er2M9RXVNNs'},\n",
       "     'href': 'https://api.spotify.com/v1/albums/2GROf0WKoP5Er2M9RXVNNs',\n",
       "     'id': '2GROf0WKoP5Er2M9RXVNNs',\n",
       "     'images': [{'height': 640,\n",
       "       'url': 'https://i.scdn.co/image/ab67616d0000b27307823ee6237208c835802663',\n",
       "       'width': 640},\n",
       "      {'height': 300,\n",
       "       'url': 'https://i.scdn.co/image/ab67616d00001e0207823ee6237208c835802663',\n",
       "       'width': 300},\n",
       "      {'height': 64,\n",
       "       'url': 'https://i.scdn.co/image/ab67616d0000485107823ee6237208c835802663',\n",
       "       'width': 64}],\n",
       "     'name': 'The Car',\n",
       "     'release_date': '2022-10-21',\n",
       "     'release_date_precision': 'day',\n",
       "     'total_tracks': 10,\n",
       "     'type': 'album',\n",
       "     'uri': 'spotify:album:2GROf0WKoP5Er2M9RXVNNs'},\n",
       "    'artists': [{'external_urls': {'spotify': 'https://open.spotify.com/artist/7Ln80lUS6He07XvHI8qqHH'},\n",
       "      'href': 'https://api.spotify.com/v1/artists/7Ln80lUS6He07XvHI8qqHH',\n",
       "      'id': '7Ln80lUS6He07XvHI8qqHH',\n",
       "      'name': 'Arctic Monkeys',\n",
       "      'type': 'artist',\n",
       "      'uri': 'spotify:artist:7Ln80lUS6He07XvHI8qqHH'}],\n",
       "    'disc_number': 1,\n",
       "    'duration_ms': 265798,\n",
       "    'explicit': False,\n",
       "    'external_ids': {'isrc': 'GBCEL2200512'},\n",
       "    'external_urls': {'spotify': 'https://open.spotify.com/track/1zx6GSqLYI2ynzAHnPRKBR'},\n",
       "    'href': 'https://api.spotify.com/v1/tracks/1zx6GSqLYI2ynzAHnPRKBR',\n",
       "    'id': '1zx6GSqLYI2ynzAHnPRKBR',\n",
       "    'is_local': False,\n",
       "    'is_playable': True,\n",
       "    'name': 'There’d Better Be A Mirrorball',\n",
       "    'popularity': 72,\n",
       "    'preview_url': 'https://p.scdn.co/mp3-preview/d9a5f46caa7b1de081411c3270c0342c80f39492?cid=13e600b84519420f9289a1250b1894da',\n",
       "    'track_number': 1,\n",
       "    'type': 'track',\n",
       "    'uri': 'spotify:track:1zx6GSqLYI2ynzAHnPRKBR'}],\n",
       "  'limit': 1,\n",
       "  'next': 'https://api.spotify.com/v1/search?query=artist%3AArctic+Monkeys+track%3AThere%27d+Better+Be+A+Mirrorball&type=track&market=GB&offset=1&limit=1',\n",
       "  'offset': 0,\n",
       "  'previous': None,\n",
       "  'total': 4}}"
      ]
     },
     "execution_count": 4,
     "metadata": {},
     "output_type": "execute_result"
    }
   ],
   "source": [
    "artistName = \"Arctic Monkeys\"\n",
    "trackName = \"There'd Better Be A Mirrorball\"\n",
    "q = \"artist:\" + artistName + \" track:\" + trackName\n",
    "spotify.search(q, limit=1, offset=0, type='track', market=\"GB\")#['tracks']['items'][0]"
   ]
  }
 ],
 "metadata": {
  "kernelspec": {
   "display_name": "Python 3.8.5",
   "language": "python",
   "name": "python3"
  },
  "language_info": {
   "codemirror_mode": {
    "name": "ipython",
    "version": 3
   },
   "file_extension": ".py",
   "mimetype": "text/x-python",
   "name": "python",
   "nbconvert_exporter": "python",
   "pygments_lexer": "ipython3",
   "version": "3.8.5"
  },
  "orig_nbformat": 4,
  "vscode": {
   "interpreter": {
    "hash": "40d3a090f54c6569ab1632332b64b2c03c39dcf918b08424e98f38b5ae0af88f"
   }
  }
 },
 "nbformat": 4,
 "nbformat_minor": 2
}
