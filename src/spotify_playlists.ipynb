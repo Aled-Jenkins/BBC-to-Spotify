{
 "cells": [
  {
   "cell_type": "code",
   "execution_count": 1,
   "metadata": {},
   "outputs": [],
   "source": [
    "import spotipy\n",
    "import pandas as pd\n",
    "import spotipy\n",
    "from spotipy.oauth2 import SpotifyClientCredentials\n",
    "from spotipy.oauth2 import SpotifyOAuth\n",
    "from dotenv import load_dotenv\n",
    "import re\n",
    "\n",
    "load_dotenv('../secrets/.env')\n",
    "\n",
    "%run useful_functions.ipynb\n",
    "%run spotify_scraping.ipynb\n",
    "\n",
    "scope = \"playlist-modify-private\"\n",
    "\n",
    "spotify = spotipy.Spotify(auth_manager=SpotifyOAuth(scope=scope))\n",
    "\n",
    "my_id = spotify.current_user()['id']\n"
   ]
  },
  {
   "cell_type": "code",
   "execution_count": 58,
   "metadata": {},
   "outputs": [],
   "source": [
    "shows = get_shows()\n",
    "show_broadcast_details = get_show_broadcast_details()\n",
    "broadcast_details = get_broadcast_details()\n",
    "broadcast_playlists = get_broadcast_playlists()\n",
    "\n",
    "master_df = (\n",
    "broadcast_playlists\n",
    ".merge(broadcast_details, on='Broadcast Key', how='left', suffixes=(\" Broadcast Details\",\"\"))\n",
    ".merge(show_broadcast_details, on='Broadcast Key', how='left', suffixes=(\"\",\" Show Details\"))\n",
    ".merge(shows, on='Show Key', how='left')\n",
    ".sort_values(['Service Date','Broadcast Position'], ascending = [False, True])\n",
    ")\n",
    "\n",
    "tracks = get_spotify_tracks()\n",
    "albums = get_spotify_albums()\n",
    "artists = get_spotify_artists()"
   ]
  },
  {
   "cell_type": "code",
   "execution_count": 92,
   "metadata": {},
   "outputs": [],
   "source": [
    "rhead = artists[artists['Artist Name'] == 'Queen']['Artist ID'][0]\n",
    "rh_tracks = tracks[tracks[\"Artist ID's\"].apply(lambda x: True if (rhead in x) else False)]"
   ]
  },
  {
   "cell_type": "code",
   "execution_count": 93,
   "metadata": {},
   "outputs": [
    {
     "data": {
      "text/html": [
       "<div>\n",
       "<style scoped>\n",
       "    .dataframe tbody tr th:only-of-type {\n",
       "        vertical-align: middle;\n",
       "    }\n",
       "\n",
       "    .dataframe tbody tr th {\n",
       "        vertical-align: top;\n",
       "    }\n",
       "\n",
       "    .dataframe thead th {\n",
       "        text-align: right;\n",
       "    }\n",
       "</style>\n",
       "<table border=\"1\" class=\"dataframe\">\n",
       "  <thead>\n",
       "    <tr style=\"text-align: right;\">\n",
       "      <th></th>\n",
       "      <th>Disc Number</th>\n",
       "      <th>Track Duration (ms)</th>\n",
       "      <th>Is Track Explicit</th>\n",
       "      <th>Track External ID's</th>\n",
       "      <th>Track External URL's</th>\n",
       "      <th>Track href</th>\n",
       "      <th>Track ID</th>\n",
       "      <th>Is Track Local</th>\n",
       "      <th>Is Track Playable</th>\n",
       "      <th>Track Name</th>\n",
       "      <th>...</th>\n",
       "      <th>Track Number</th>\n",
       "      <th>Track Type</th>\n",
       "      <th>Track URI</th>\n",
       "      <th>Original Search Artist</th>\n",
       "      <th>Original Search Track</th>\n",
       "      <th>Cleaned Search Artist</th>\n",
       "      <th>Cleaned Search Track</th>\n",
       "      <th>Search Query</th>\n",
       "      <th>Album ID</th>\n",
       "      <th>Artist ID's</th>\n",
       "    </tr>\n",
       "  </thead>\n",
       "  <tbody>\n",
       "    <tr>\n",
       "      <th>0</th>\n",
       "      <td>1</td>\n",
       "      <td>354320</td>\n",
       "      <td>False</td>\n",
       "      <td>{'isrc': 'GBUM71029604'}</td>\n",
       "      <td>{'spotify': 'https://open.spotify.com/track/4u...</td>\n",
       "      <td>https://api.spotify.com/v1/tracks/4u7EnebtmKWz...</td>\n",
       "      <td>4u7EnebtmKWzUH433cf5Qv</td>\n",
       "      <td>False</td>\n",
       "      <td>True</td>\n",
       "      <td>Bohemian Rhapsody - Remastered 2011</td>\n",
       "      <td>...</td>\n",
       "      <td>11</td>\n",
       "      <td>track</td>\n",
       "      <td>spotify:track:4u7EnebtmKWzUH433cf5Qv</td>\n",
       "      <td>Queen</td>\n",
       "      <td>Bohemian Rhapsody</td>\n",
       "      <td>Queen</td>\n",
       "      <td>Bohemian Rhapsody</td>\n",
       "      <td>artist:Queen track:Bohemian Rhapsody</td>\n",
       "      <td>1GbtB4zTqAsyfZEsm1RZfx</td>\n",
       "      <td>[1dfeR4HaWDbWqFHLkxsg1d]</td>\n",
       "    </tr>\n",
       "  </tbody>\n",
       "</table>\n",
       "<p>1 rows × 22 columns</p>\n",
       "</div>"
      ],
      "text/plain": [
       "   Disc Number  Track Duration (ms)  Is Track Explicit  \\\n",
       "0            1               354320              False   \n",
       "\n",
       "        Track External ID's  \\\n",
       "0  {'isrc': 'GBUM71029604'}   \n",
       "\n",
       "                                Track External URL's  \\\n",
       "0  {'spotify': 'https://open.spotify.com/track/4u...   \n",
       "\n",
       "                                          Track href                Track ID  \\\n",
       "0  https://api.spotify.com/v1/tracks/4u7EnebtmKWz...  4u7EnebtmKWzUH433cf5Qv   \n",
       "\n",
       "   Is Track Local  Is Track Playable                           Track Name  \\\n",
       "0           False               True  Bohemian Rhapsody - Remastered 2011   \n",
       "\n",
       "   ...  Track Number Track Type                             Track URI  \\\n",
       "0  ...            11      track  spotify:track:4u7EnebtmKWzUH433cf5Qv   \n",
       "\n",
       "  Original Search Artist Original Search Track Cleaned Search Artist  \\\n",
       "0                  Queen     Bohemian Rhapsody                 Queen   \n",
       "\n",
       "  Cleaned Search Track                          Search Query  \\\n",
       "0    Bohemian Rhapsody  artist:Queen track:Bohemian Rhapsody   \n",
       "\n",
       "                 Album ID               Artist ID's  \n",
       "0  1GbtB4zTqAsyfZEsm1RZfx  [1dfeR4HaWDbWqFHLkxsg1d]  \n",
       "\n",
       "[1 rows x 22 columns]"
      ]
     },
     "execution_count": 93,
     "metadata": {},
     "output_type": "execute_result"
    }
   ],
   "source": [
    "rh_tracks"
   ]
  },
  {
   "cell_type": "code",
   "execution_count": 99,
   "metadata": {},
   "outputs": [
    {
     "data": {
      "text/plain": [
       "{'genres': ['acoustic',\n",
       "  'afrobeat',\n",
       "  'alt-rock',\n",
       "  'alternative',\n",
       "  'ambient',\n",
       "  'anime',\n",
       "  'black-metal',\n",
       "  'bluegrass',\n",
       "  'blues',\n",
       "  'bossanova',\n",
       "  'brazil',\n",
       "  'breakbeat',\n",
       "  'british',\n",
       "  'cantopop',\n",
       "  'chicago-house',\n",
       "  'children',\n",
       "  'chill',\n",
       "  'classical',\n",
       "  'club',\n",
       "  'comedy',\n",
       "  'country',\n",
       "  'dance',\n",
       "  'dancehall',\n",
       "  'death-metal',\n",
       "  'deep-house',\n",
       "  'detroit-techno',\n",
       "  'disco',\n",
       "  'disney',\n",
       "  'drum-and-bass',\n",
       "  'dub',\n",
       "  'dubstep',\n",
       "  'edm',\n",
       "  'electro',\n",
       "  'electronic',\n",
       "  'emo',\n",
       "  'folk',\n",
       "  'forro',\n",
       "  'french',\n",
       "  'funk',\n",
       "  'garage',\n",
       "  'german',\n",
       "  'gospel',\n",
       "  'goth',\n",
       "  'grindcore',\n",
       "  'groove',\n",
       "  'grunge',\n",
       "  'guitar',\n",
       "  'happy',\n",
       "  'hard-rock',\n",
       "  'hardcore',\n",
       "  'hardstyle',\n",
       "  'heavy-metal',\n",
       "  'hip-hop',\n",
       "  'holidays',\n",
       "  'honky-tonk',\n",
       "  'house',\n",
       "  'idm',\n",
       "  'indian',\n",
       "  'indie',\n",
       "  'indie-pop',\n",
       "  'industrial',\n",
       "  'iranian',\n",
       "  'j-dance',\n",
       "  'j-idol',\n",
       "  'j-pop',\n",
       "  'j-rock',\n",
       "  'jazz',\n",
       "  'k-pop',\n",
       "  'kids',\n",
       "  'latin',\n",
       "  'latino',\n",
       "  'malay',\n",
       "  'mandopop',\n",
       "  'metal',\n",
       "  'metal-misc',\n",
       "  'metalcore',\n",
       "  'minimal-techno',\n",
       "  'movies',\n",
       "  'mpb',\n",
       "  'new-age',\n",
       "  'new-release',\n",
       "  'opera',\n",
       "  'pagode',\n",
       "  'party',\n",
       "  'philippines-opm',\n",
       "  'piano',\n",
       "  'pop',\n",
       "  'pop-film',\n",
       "  'post-dubstep',\n",
       "  'power-pop',\n",
       "  'progressive-house',\n",
       "  'psych-rock',\n",
       "  'punk',\n",
       "  'punk-rock',\n",
       "  'r-n-b',\n",
       "  'rainy-day',\n",
       "  'reggae',\n",
       "  'reggaeton',\n",
       "  'road-trip',\n",
       "  'rock',\n",
       "  'rock-n-roll',\n",
       "  'rockabilly',\n",
       "  'romance',\n",
       "  'sad',\n",
       "  'salsa',\n",
       "  'samba',\n",
       "  'sertanejo',\n",
       "  'show-tunes',\n",
       "  'singer-songwriter',\n",
       "  'ska',\n",
       "  'sleep',\n",
       "  'songwriter',\n",
       "  'soul',\n",
       "  'soundtracks',\n",
       "  'spanish',\n",
       "  'study',\n",
       "  'summer',\n",
       "  'swedish',\n",
       "  'synth-pop',\n",
       "  'tango',\n",
       "  'techno',\n",
       "  'trance',\n",
       "  'trip-hop',\n",
       "  'turkish',\n",
       "  'work-out',\n",
       "  'world-music']}"
      ]
     },
     "execution_count": 99,
     "metadata": {},
     "output_type": "execute_result"
    }
   ],
   "source": [
    "#spotify.audio_analysis(\"4u7EnebtmKWzUH433cf5Qv\")\n",
    "#spotify.audio_features(\"4u7EnebtmKWzUH433cf5Qv\")\n",
    "#spotify.recommendation_genre_seeds()"
   ]
  },
  {
   "cell_type": "code",
   "execution_count": 94,
   "metadata": {},
   "outputs": [],
   "source": [
    "test_playlist = spotify.user_playlist_create(my_id, \"test_playlist\", public=False, collaborative=False, description='Test Playlist')\n",
    "playlist_id = test_playlist['id']\n",
    "tracks_to_add = list(rh_tracks['Track ID'])\n",
    "i = 0\n",
    "while i < len(tracks_to_add) // 50 + 1:\n",
    "    temp_tracks_to_add = tracks_to_add[50*i:50*(i+1)]\n",
    "    spotify.user_playlist_add_tracks(my_id, playlist_id, temp_tracks_to_add, position=50*i)\n",
    "    i += 1"
   ]
  },
  {
   "cell_type": "code",
   "execution_count": 14,
   "metadata": {},
   "outputs": [],
   "source": [
    "user_playlist_remove_all_occurrences_of_tracks(user, playlist_id, tracks, snapshot_id=None)"
   ]
  },
  {
   "cell_type": "code",
   "execution_count": 54,
   "metadata": {},
   "outputs": [
    {
     "data": {
      "text/plain": [
       "{'snapshot_id': 'NCxhZjYzMWI0OWZmODZkMzNmMzM1NWRmODJhYmUwMjZlYjFkZGIwYzlk'}"
      ]
     },
     "execution_count": 54,
     "metadata": {},
     "output_type": "execute_result"
    }
   ],
   "source": [
    "spotify.playlist_add_items(playlist_id, [temp_tracks_to_add[0]], position=0)"
   ]
  },
  {
   "cell_type": "code",
   "execution_count": 32,
   "metadata": {},
   "outputs": [
    {
     "data": {
      "text/plain": [
       "['1QG6fYUoExhAMjzVi8EdIQ',\n",
       " '77rF32ZnoNMqQlxWjwTBCn',\n",
       " '20Dw7Jar5hUbwX5FwHdQoG',\n",
       " '6yLkSsbvHSIzjBBVoIxdM6',\n",
       " '0ByROqFlBxTQeX4XlvE7Gk',\n",
       " '4rXfbIpiDnGxZYIflm8LSQ']"
      ]
     },
     "execution_count": 32,
     "metadata": {},
     "output_type": "execute_result"
    }
   ],
   "source": [
    "tracks_to_add[50:100]\n"
   ]
  }
 ],
 "metadata": {
  "kernelspec": {
   "display_name": "Python 3.8.5",
   "language": "python",
   "name": "python3"
  },
  "language_info": {
   "codemirror_mode": {
    "name": "ipython",
    "version": 3
   },
   "file_extension": ".py",
   "mimetype": "text/x-python",
   "name": "python",
   "nbconvert_exporter": "python",
   "pygments_lexer": "ipython3",
   "version": "3.8.5"
  },
  "orig_nbformat": 4,
  "vscode": {
   "interpreter": {
    "hash": "40d3a090f54c6569ab1632332b64b2c03c39dcf918b08424e98f38b5ae0af88f"
   }
  }
 },
 "nbformat": 4,
 "nbformat_minor": 2
}
