{
 "cells": [
  {
   "cell_type": "code",
   "execution_count": 1,
   "metadata": {},
   "outputs": [],
   "source": [
    "import spotipy\n",
    "import pandas as pd\n",
    "import numpy as np\n",
    "import spotipy\n",
    "from spotipy.oauth2 import SpotifyClientCredentials\n",
    "from spotipy.oauth2 import SpotifyOAuth\n",
    "from dotenv import load_dotenv\n",
    "import re\n",
    "import math\n",
    "from tqdm import tqdm\n",
    "\n",
    "load_dotenv('../secrets/.env', override=True)\n",
    "\n",
    "%run useful_functions.ipynb\n",
    "%run spotify_scraping.ipynb\n",
    "\n",
    "scope = \"playlist-modify-private\"\n",
    "\n",
    "spotify = spotipy.Spotify(auth_manager=SpotifyOAuth(scope=scope))\n",
    "\n",
    "my_id = spotify.current_user()['id']"
   ]
  },
  {
   "cell_type": "code",
   "execution_count": 2,
   "metadata": {},
   "outputs": [],
   "source": [
    "shows = get_shows()\n",
    "show_broadcast_details = get_show_broadcast_details()\n",
    "broadcast_details = get_broadcast_details()\n",
    "broadcast_playlists = get_broadcast_playlists()\n",
    "\n",
    "tracks = get_spotify_tracks()\n",
    "albums = get_spotify_albums()\n",
    "artists = get_spotify_artists()\n",
    "search = get_spotify_search()\n",
    "playlists = get_spotify_playlists()\n",
    "playlist_tracks = get_spotify_playlist_tracks()\n",
    "\n",
    "master_df = (\n",
    "broadcast_playlists\n",
    ".merge(broadcast_details, on='Broadcast Key', how='left', suffixes=(\" Broadcast Details\",\"\"))\n",
    ".merge(show_broadcast_details, on='Broadcast Key', how='left', suffixes=(\"\",\" Show Details\"))\n",
    ".merge(shows, on='Show Key', how='left')\n",
    ".merge(search,left_on=['Artist Name','Track Name'], right_on=['Original Search Artist','Original Search Track'], how = \"left\", suffixes=(\"\", \" Search\"))\n",
    ".merge(tracks, on='Track ID', how='left', suffixes=(\"\", \" Tracks\"))\n",
    ".sort_values(['Service Date','Broadcast Position'], ascending = [False, True])\n",
    ")\n",
    "\n",
    "del(shows,\n",
    "    show_broadcast_details,\n",
    "    broadcast_details,\n",
    "    broadcast_playlists,\n",
    "    search)"
   ]
  },
  {
   "cell_type": "code",
   "execution_count": 3,
   "metadata": {},
   "outputs": [],
   "source": [
    "demo_df = master_df[(master_df['Service Date'].apply(lambda date: date.year) == 2022) & (master_df['Show Name'] == \"Radio 1's Indie Show with Jack Saunders\")].drop_duplicates(subset=['Track ID'], keep='first')"
   ]
  },
  {
   "cell_type": "code",
   "execution_count": 32,
   "metadata": {},
   "outputs": [
    {
     "data": {
      "text/html": [
       "<div>\n",
       "<style scoped>\n",
       "    .dataframe tbody tr th:only-of-type {\n",
       "        vertical-align: middle;\n",
       "    }\n",
       "\n",
       "    .dataframe tbody tr th {\n",
       "        vertical-align: top;\n",
       "    }\n",
       "\n",
       "    .dataframe thead th {\n",
       "        text-align: right;\n",
       "    }\n",
       "</style>\n",
       "<table border=\"1\" class=\"dataframe\">\n",
       "  <thead>\n",
       "    <tr style=\"text-align: right;\">\n",
       "      <th></th>\n",
       "      <th>Track ID</th>\n",
       "      <th>Playlist ID</th>\n",
       "      <th>Position Number</th>\n",
       "    </tr>\n",
       "  </thead>\n",
       "  <tbody>\n",
       "    <tr>\n",
       "      <th>0</th>\n",
       "      <td>0UgCI5TiOQthbrEVSqHC9j</td>\n",
       "      <td>5uIyi7NxggSq80w115PoDQ</td>\n",
       "      <td>0</td>\n",
       "    </tr>\n",
       "    <tr>\n",
       "      <th>0</th>\n",
       "      <td>75FTM8KrqDET0dk4fn4xcM</td>\n",
       "      <td>5uIyi7NxggSq80w115PoDQ</td>\n",
       "      <td>1</td>\n",
       "    </tr>\n",
       "    <tr>\n",
       "      <th>0</th>\n",
       "      <td>4MP5tSTc6LxY8xhrUOv9Ya</td>\n",
       "      <td>5uIyi7NxggSq80w115PoDQ</td>\n",
       "      <td>2</td>\n",
       "    </tr>\n",
       "    <tr>\n",
       "      <th>0</th>\n",
       "      <td>15EgMjlIMSbRlutS6v8EPI</td>\n",
       "      <td>5uIyi7NxggSq80w115PoDQ</td>\n",
       "      <td>3</td>\n",
       "    </tr>\n",
       "    <tr>\n",
       "      <th>0</th>\n",
       "      <td>2venvrFxLv6wGWmZwQdGYg</td>\n",
       "      <td>5uIyi7NxggSq80w115PoDQ</td>\n",
       "      <td>4</td>\n",
       "    </tr>\n",
       "    <tr>\n",
       "      <th>...</th>\n",
       "      <td>...</td>\n",
       "      <td>...</td>\n",
       "      <td>...</td>\n",
       "    </tr>\n",
       "    <tr>\n",
       "      <th>0</th>\n",
       "      <td>2mdaMDbjFxmxQPO90PxT5w</td>\n",
       "      <td>5uIyi7NxggSq80w115PoDQ</td>\n",
       "      <td>694</td>\n",
       "    </tr>\n",
       "    <tr>\n",
       "      <th>0</th>\n",
       "      <td>2JjDl1YbzaBKlhSrUXZqNM</td>\n",
       "      <td>5uIyi7NxggSq80w115PoDQ</td>\n",
       "      <td>695</td>\n",
       "    </tr>\n",
       "    <tr>\n",
       "      <th>0</th>\n",
       "      <td>0AIlxnJ1kFpu6wp89rjjUv</td>\n",
       "      <td>5uIyi7NxggSq80w115PoDQ</td>\n",
       "      <td>696</td>\n",
       "    </tr>\n",
       "    <tr>\n",
       "      <th>0</th>\n",
       "      <td>7BZWTu4Pv77TxGmmsQaSXN</td>\n",
       "      <td>5uIyi7NxggSq80w115PoDQ</td>\n",
       "      <td>697</td>\n",
       "    </tr>\n",
       "    <tr>\n",
       "      <th>0</th>\n",
       "      <td>4Yt1wLAC0lS088okmLul0G</td>\n",
       "      <td>5uIyi7NxggSq80w115PoDQ</td>\n",
       "      <td>698</td>\n",
       "    </tr>\n",
       "  </tbody>\n",
       "</table>\n",
       "<p>699 rows × 3 columns</p>\n",
       "</div>"
      ],
      "text/plain": [
       "                  Track ID             Playlist ID  Position Number\n",
       "0   0UgCI5TiOQthbrEVSqHC9j  5uIyi7NxggSq80w115PoDQ                0\n",
       "0   75FTM8KrqDET0dk4fn4xcM  5uIyi7NxggSq80w115PoDQ                1\n",
       "0   4MP5tSTc6LxY8xhrUOv9Ya  5uIyi7NxggSq80w115PoDQ                2\n",
       "0   15EgMjlIMSbRlutS6v8EPI  5uIyi7NxggSq80w115PoDQ                3\n",
       "0   2venvrFxLv6wGWmZwQdGYg  5uIyi7NxggSq80w115PoDQ                4\n",
       "..                     ...                     ...              ...\n",
       "0   2mdaMDbjFxmxQPO90PxT5w  5uIyi7NxggSq80w115PoDQ              694\n",
       "0   2JjDl1YbzaBKlhSrUXZqNM  5uIyi7NxggSq80w115PoDQ              695\n",
       "0   0AIlxnJ1kFpu6wp89rjjUv  5uIyi7NxggSq80w115PoDQ              696\n",
       "0   7BZWTu4Pv77TxGmmsQaSXN  5uIyi7NxggSq80w115PoDQ              697\n",
       "0   4Yt1wLAC0lS088okmLul0G  5uIyi7NxggSq80w115PoDQ              698\n",
       "\n",
       "[699 rows x 3 columns]"
      ]
     },
     "execution_count": 32,
     "metadata": {},
     "output_type": "execute_result"
    }
   ],
   "source": [
    "def edit_playlist_tracks(playlist_id, new_tracks, user = my_id):\n",
    "    get_playlist(playlist_id = playlist_id, with_tracks = True)\n",
    "    current_playlist = playlist_tracks[playlist_tracks['Playlist ID'] == playlist_id]\n",
    "    return(current_playlist)\n",
    "\n",
    "edit_playlist_tracks(x, [])"
   ]
  },
  {
   "cell_type": "code",
   "execution_count": 20,
   "metadata": {},
   "outputs": [
    {
     "ename": "NameError",
     "evalue": "name 'playlist_id' is not defined",
     "output_type": "error",
     "traceback": [
      "\u001b[0;31m---------------------------------------------------------------------------\u001b[0m",
      "\u001b[0;31mNameError\u001b[0m                                 Traceback (most recent call last)",
      "\u001b[0;32m<ipython-input-20-0acb5a702ec1>\u001b[0m in \u001b[0;36m<module>\u001b[0;34m\u001b[0m\n\u001b[0;32m----> 1\u001b[0;31m \u001b[0mspotify\u001b[0m\u001b[0;34m.\u001b[0m\u001b[0mplaylist_add_items\u001b[0m\u001b[0;34m(\u001b[0m\u001b[0mplaylist_id\u001b[0m\u001b[0;34m,\u001b[0m \u001b[0;34m[\u001b[0m\u001b[0mtemp_tracks_to_add\u001b[0m\u001b[0;34m[\u001b[0m\u001b[0;36m0\u001b[0m\u001b[0;34m]\u001b[0m\u001b[0;34m]\u001b[0m\u001b[0;34m,\u001b[0m \u001b[0mposition\u001b[0m\u001b[0;34m=\u001b[0m\u001b[0;36m0\u001b[0m\u001b[0;34m)\u001b[0m\u001b[0;34m\u001b[0m\u001b[0;34m\u001b[0m\u001b[0m\n\u001b[0m",
      "\u001b[0;31mNameError\u001b[0m: name 'playlist_id' is not defined"
     ]
    }
   ],
   "source": [
    "spotify.playlist_add_items(playlist_id, [temp_tracks_to_add[0]], position=0)"
   ]
  },
  {
   "cell_type": "code",
   "execution_count": null,
   "metadata": {},
   "outputs": [],
   "source": []
  },
  {
   "cell_type": "code",
   "execution_count": null,
   "metadata": {},
   "outputs": [],
   "source": []
  },
  {
   "cell_type": "code",
   "execution_count": null,
   "metadata": {},
   "outputs": [],
   "source": []
  },
  {
   "cell_type": "code",
   "execution_count": 29,
   "metadata": {},
   "outputs": [],
   "source": [
    "playlists = pd.DataFrame()\n",
    "playlist_tracks = pd.DataFrame()\n",
    "\n",
    "#make_playlist(\"Test Playlist\",\"test description\")\n",
    "get_playlist('5uIyi7NxggSq80w115PoDQ', with_tracks=False)\n",
    "x = playlists[playlists['name'] == 'Indie Show 2022']['id'][0]\n",
    "edit_playlist_details(user=my_id, playlist_id = x, name='Indie Show 2022', description='If this is working and updating by itself, then my python coding skills are better than I think :)')\n",
    "get_playlist('5uIyi7NxggSq80w115PoDQ')\n",
    "\n",
    "#delete_playlist(playlist_id=x)\n",
    "\n",
    "playlist_tracks.to_pickle('../data/spotify_playlist_tracks.pkl')\n",
    "playlists.to_pickle('../data/spotify_playlists.pkl')"
   ]
  },
  {
   "cell_type": "code",
   "execution_count": 155,
   "metadata": {},
   "outputs": [],
   "source": [
    "#rhead = artists[artists['Artist Name'] == 'Radiohead']['Artist ID'][0]\n",
    "#rh_tracks = tracks[tracks[\"Artist ID's\"].apply(lambda x: True if (rhead in x) else False)]\n",
    "\n",
    "#spotify.audio_analysis(\"4u7EnebtmKWzUH433cf5Qv\")\n",
    "#spotify.audio_features(\"4u7EnebtmKWzUH433cf5Qv\")\n",
    "#spotify.recommendation_genre_seeds()\n",
    "\n",
    "#set(master_df['Show Name'])\n",
    "#set(demo_df['Service Date'])"
   ]
  },
  {
   "cell_type": "code",
   "execution_count": null,
   "metadata": {},
   "outputs": [],
   "source": [
    "def show_tracks(tracks):\n",
    "    for i, item in enumerate(tracks['items']):\n",
    "        track = item['track']\n",
    "        print(\"   %d %32.32s %s\" % (i, track['artists'][0]['name'],\n",
    "            track['name']))\n",
    "\n",
    "\n",
    "\n",
    "        playlists = spotify.user_playlists(username)\n",
    "        for playlist in playlists['items']:\n",
    "            if playlist['owner']['id'] == username:\n",
    "                print()\n",
    "                print(playlist['name'])\n",
    "                print ('  total tracks', playlist['tracks']['total'])\n",
    "                results = sp.user_playlist(username, playlist['id'],\n",
    "                    fields=\"tracks,next\")\n",
    "                tracks = results['tracks']\n",
    "                show_tracks(tracks)\n",
    "                while tracks['next']:\n",
    "                    tracks = sp.next(tracks)\n",
    "                    show_tracks(tracks)\n",
    "    else:\n",
    "        print(\"Can't get token for\", username)"
   ]
  },
  {
   "cell_type": "code",
   "execution_count": 50,
   "metadata": {},
   "outputs": [],
   "source": [
    "test_playlist = spotify.user_playlist_create(my_id, \"Future Artists Show 2022\", public=False, collaborative=False, description='If this is working and updating by itself, then my python coding skills are better than I think :)')\n",
    "playlist_id = test_playlist['id']\n",
    "tracks_to_add = [x for x in demo_df['Track ID'] if isinstance(x,str) == True]\n",
    "i = 0\n",
    "while i < len(tracks_to_add) // 50 + 1:\n",
    "    temp_tracks_to_add = tracks_to_add[50*i:50*(i+1)]\n",
    "    spotify.user_playlist_add_tracks(my_id, playlist_id, temp_tracks_to_add, position=50*i)\n",
    "    i += 1"
   ]
  }
 ],
 "metadata": {
  "kernelspec": {
   "display_name": "Python 3.8.5",
   "language": "python",
   "name": "python3"
  },
  "language_info": {
   "codemirror_mode": {
    "name": "ipython",
    "version": 3
   },
   "file_extension": ".py",
   "mimetype": "text/x-python",
   "name": "python",
   "nbconvert_exporter": "python",
   "pygments_lexer": "ipython3",
   "version": "3.8.5"
  },
  "orig_nbformat": 4,
  "vscode": {
   "interpreter": {
    "hash": "40d3a090f54c6569ab1632332b64b2c03c39dcf918b08424e98f38b5ae0af88f"
   }
  }
 },
 "nbformat": 4,
 "nbformat_minor": 2
}
