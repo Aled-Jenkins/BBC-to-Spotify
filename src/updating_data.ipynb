{
 "cells": [
  {
   "cell_type": "code",
   "execution_count": 181,
   "metadata": {},
   "outputs": [],
   "source": [
    "from bs4 import BeautifulSoup\n",
    "import pandas as pd\n",
    "import requests\n",
    "from datetime import date\n",
    "from datetime import timedelta\n",
    "from datetime import datetime\n",
    "\n",
    "%run web_scraping.ipynb\n",
    "%run useful_functions.ipynb"
   ]
  },
  {
   "cell_type": "code",
   "execution_count": 182,
   "metadata": {},
   "outputs": [],
   "source": [
    "shows = get_shows()\n",
    "show_broadcast_details = get_show_broadcast_details()\n",
    "broadcast_details = get_broadcast_details()\n",
    "broadcast_playlists = get_broadcast_playlists()"
   ]
  },
  {
   "cell_type": "code",
   "execution_count": 184,
   "metadata": {},
   "outputs": [],
   "source": [
    "#shows_to_run = [\"https://www.bbc.co.uk/programmes/b00rz79k/episodes/guide\",\n",
    "#                \"https://www.bbc.co.uk/programmes/b00t3nsw/episodes/guide\",\n",
    "#                \"https://www.bbc.co.uk/programmes/b006wq4s/episodes/guide\",\n",
    "#                \"https://www.bbc.co.uk/programmes/m001bhnd/episodes/guide\",\n",
    "#                \"https://www.bbc.co.uk/programmes/m001bjdj/episodes/guide\",\n",
    "#                \"https://www.bbc.co.uk/programmes/m0000blt/episodes/guide\"]\n",
    "#                \"https://www.bbc.co.uk/programmes/m00008zy/episodes/guide\", \n",
    "#                \"https://www.bbc.co.uk/programmes/b03hjfww/episodes/guide\",\n",
    "#                \"https://www.bbc.co.uk/programmes/b006wkh9/episodes/guide\",\n",
    "#                \"https://www.bbc.co.uk/programmes/p04m6srg/episodes/guide\",\n",
    "#                \"https://www.bbc.co.uk/programmes/m000m5bw/episodes/guide\",\n",
    "#                \"https://www.bbc.co.uk/programmes/m0016zh5/episodes/guide\",\n",
    "#                \"https://www.bbc.co.uk/programmes/b0072lb2/episodes/guide\",\n",
    "#                \"https://www.bbc.co.uk/programmes/b0072q60/episodes/guide\",\n",
    "#                \"https://www.bbc.co.uk/programmes/b00p4l4t/episodes/guide\",\n",
    "#                \"https://www.bbc.co.uk/programmes/b0072l4x/episodes/guide\"]\n",
    "\n",
    "temp_show_broadcast_details = pd.DataFrame()\n",
    "\n",
    "#for show_url in shows_to_run:\n",
    "for show_url in shows['Show URL']:\n",
    "    show_instance = Show(show_url, max_pages = 2)\n",
    "    if shows.empty or show_instance.show_key not in shows['Show Key'].unique():\n",
    "        shows = pd.concat([shows,show_instance.show_details])\n",
    "    temp_show_broadcast_details = pd.concat([temp_show_broadcast_details,show_instance.broadcasts])\n",
    "    \n",
    "temp_show_broadcast_details['Datetime Key'] = datetime.now()\n",
    "temp_show_broadcast_details['Is New Data'] = True\n",
    "temp_show_broadcast_details['Is Maybe Pending'] = True\n",
    "temp_show_broadcast_details.drop(columns=['Broadcast Number'], inplace=True)\n",
    "\n",
    "show_broadcast_details = pd.concat([show_broadcast_details,temp_show_broadcast_details])\n",
    "show_broadcast_details = show_broadcast_details.groupby(allbut(show_broadcast_details.columns,['Datetime Key','Is New Data','Is Maybe Pending'])).apply(lambda group: group.nsmallest(1, columns='Datetime Key')).reset_index(drop=True)\n",
    "show_broadcast_details = show_broadcast_details.groupby(\"Broadcast Key\").apply(lambda group: group.nlargest(1, columns='Datetime Key')).reset_index(drop=True)"
   ]
  },
  {
   "cell_type": "code",
   "execution_count": 187,
   "metadata": {},
   "outputs": [],
   "source": [
    "max_trials = 500\n",
    "new_broadcast_data = show_broadcast_details[(show_broadcast_details[\"Is Broadcast Upcoming\"]==False) & ((show_broadcast_details[\"Is New Data\"]==True) | (show_broadcast_details['Is Maybe Pending'] == True))][0:max_trials]\n",
    "temp_broadcast_details = pd.DataFrame()\n",
    "temp_broadcast_playlists = pd.DataFrame()\n",
    "\n",
    "for i, [broadcast_url,broadcast_key] in enumerate(new_broadcast_data[['Broadcast URL','Broadcast Key']].values):\n",
    "    broadcast_instance = Playlist(broadcast_url)\n",
    "    if (i+1) % 5 == 0:\n",
    "        print(f'Broadcast Number {1+i} of {len(new_broadcast_data.index)}')\n",
    "    if ((len(broadcast_instance.playlist.index) == 0) & ((pd.to_datetime('now')- broadcast_instance.broadcast_details[\"Service Date\"]).dt.days.values <= 7)) | ((pd.to_datetime('now')- broadcast_instance.broadcast_details[\"Service Date\"]).dt.days.values == 0):\n",
    "        show_broadcast_details.loc[show_broadcast_details[\"Broadcast Key\"] == broadcast_key,'Is Maybe Pending'] = True\n",
    "    else:\n",
    "        show_broadcast_details.loc[show_broadcast_details[\"Broadcast Key\"] == broadcast_key,'Is Maybe Pending'] = False\n",
    "    temp_broadcast_details = pd.concat([temp_broadcast_details,broadcast_instance.broadcast_details])\n",
    "    temp_broadcast_playlists = pd.concat([temp_broadcast_playlists,broadcast_instance.playlist])\n",
    "    \n",
    "temp_broadcast_details['Datetime Key'] = datetime.now()\n",
    "temp_broadcast_details['Is New Data'] = True\n",
    "temp_broadcast_playlists['Datetime Key'] = datetime.now()\n",
    "temp_broadcast_playlists['Is New Data'] = True\n",
    "\n",
    "broadcast_details = pd.concat([broadcast_details,temp_broadcast_details])\n",
    "broadcast_details = broadcast_details.groupby(allbut(broadcast_details.columns,['Datetime Key','Is New Data'])).apply(lambda group: group.nsmallest(1, columns='Datetime Key')).reset_index(drop=True)\n",
    "broadcast_details = broadcast_details.groupby(\"Broadcast Key\").apply(lambda group: group.nlargest(1, columns='Datetime Key')).reset_index(drop=True)\n",
    "\n",
    "broadcast_playlists = pd.concat([broadcast_playlists,temp_broadcast_playlists])\n",
    "broadcast_playlists = broadcast_playlists.groupby(allbut(broadcast_playlists.columns,['Datetime Key','Is New Data'])).apply(lambda group: group.nsmallest(1, columns='Datetime Key')).reset_index(drop=True)\n",
    "broadcast_playlists = broadcast_playlists.groupby([\"Broadcast Key\", \"Broadcast Position\"]).apply(lambda group: group.nlargest(1, columns='Datetime Key')).reset_index(drop=True)\n",
    "\n",
    "show_broadcast_details['Is New Data'] = False\n",
    "broadcast_details['Is New Data'] = False\n",
    "broadcast_playlists['Is New Data'] = False"
   ]
  },
  {
   "cell_type": "code",
   "execution_count": 186,
   "metadata": {},
   "outputs": [],
   "source": [
    "shows.to_pickle(\"../data/shows.pkl\")\n",
    "show_broadcast_details.to_pickle(\"../data/show_broadcast_details.pkl\")\n",
    "broadcast_details.to_pickle(\"../data/broadcast_details.pkl\")\n",
    "broadcast_playlists.to_pickle(\"../data/broadcast_playlists.pkl\")"
   ]
  }
 ],
 "metadata": {
  "kernelspec": {
   "display_name": "Python 3.8.5",
   "language": "python",
   "name": "python3"
  },
  "language_info": {
   "codemirror_mode": {
    "name": "ipython",
    "version": 3
   },
   "file_extension": ".py",
   "mimetype": "text/x-python",
   "name": "python",
   "nbconvert_exporter": "python",
   "pygments_lexer": "ipython3",
   "version": "3.8.5"
  },
  "orig_nbformat": 4,
  "vscode": {
   "interpreter": {
    "hash": "40d3a090f54c6569ab1632332b64b2c03c39dcf918b08424e98f38b5ae0af88f"
   }
  }
 },
 "nbformat": 4,
 "nbformat_minor": 2
}
