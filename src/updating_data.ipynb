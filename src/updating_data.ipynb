{
 "cells": [
  {
   "cell_type": "code",
   "execution_count": 1,
   "metadata": {},
   "outputs": [
    {
     "name": "stderr",
     "output_type": "stream",
     "text": [
      "/opt/anaconda3/lib/python3.8/site-packages/tqdm/std.py:697: FutureWarning: The Panel class is removed from pandas. Accessing it from the top-level namespace will also be removed in the next version\n",
      "  from pandas import Panel\n"
     ]
    }
   ],
   "source": [
    "from bs4 import BeautifulSoup\n",
    "import pandas as pd\n",
    "import requests\n",
    "from datetime import date\n",
    "from datetime import timedelta\n",
    "from datetime import datetime\n",
    "from tqdm import tqdm\n",
    "from tqdm.notebook import tqdm_notebook\n",
    "from dotenv import load_dotenv\n",
    "import hashlib\n",
    "\n",
    "tqdm_notebook.pandas()\n",
    "\n",
    "load_dotenv('../secrets/.env', override=True)\n",
    "\n",
    "%run web_scraping.ipynb\n",
    "%run useful_functions.ipynb"
   ]
  },
  {
   "cell_type": "code",
   "execution_count": 2,
   "metadata": {},
   "outputs": [],
   "source": [
    "shows = get_shows()\n",
    "show_broadcast_details = get_show_broadcast_details()\n",
    "broadcast_details = get_broadcast_details()\n",
    "broadcast_playlists = get_broadcast_playlists()"
   ]
  },
  {
   "cell_type": "code",
   "execution_count": 3,
   "metadata": {},
   "outputs": [
    {
     "name": "stderr",
     "output_type": "stream",
     "text": [
      "Show: 100%|██████████| 19/19 [00:14<00:00,  1.31it/s]\n"
     ]
    }
   ],
   "source": [
    "#shows_to_run = [\"https://www.bbc.co.uk/programmes/m0015f4k/episodes/guide\",\n",
    "#                \"https://www.bbc.co.uk/programmes/b09c19f4/episodes/guide\",\n",
    "#                \"https://www.bbc.co.uk/programmes/m000zd5w/episodes/guide\",\n",
    "#                \"https://www.bbc.co.uk/programmes/b00rz79k/episodes/guide\",\n",
    "#                \"https://www.bbc.co.uk/programmes/b00t3nsw/episodes/guide\",\n",
    "#                \"https://www.bbc.co.uk/programmes/b006wq4s/episodes/guide\",\n",
    "#                \"https://www.bbc.co.uk/programmes/m001bhnd/episodes/guide\",\n",
    "#                \"https://www.bbc.co.uk/programmes/m001bjdj/episodes/guide\",\n",
    "#                \"https://www.bbc.co.uk/programmes/m0000blt/episodes/guide\",\n",
    "#                \"https://www.bbc.co.uk/programmes/m00008zy/episodes/guide\", \n",
    "#                \"https://www.bbc.co.uk/programmes/b03hjfww/episodes/guide\",\n",
    "#                \"https://www.bbc.co.uk/programmes/b006wkh9/episodes/guide\",\n",
    "#                \"https://www.bbc.co.uk/programmes/p04m6srg/episodes/guide\",\n",
    "#                \"https://www.bbc.co.uk/programmes/m000m5bw/episodes/guide\",\n",
    "#                \"https://www.bbc.co.uk/programmes/m0016zh5/episodes/guide\",\n",
    "#                \"https://www.bbc.co.uk/programmes/b0072lb2/episodes/guide\",\n",
    "#                \"https://www.bbc.co.uk/programmes/b0072q60/episodes/guide\",\n",
    "#                \"https://www.bbc.co.uk/programmes/b00p4l4t/episodes/guide\",\n",
    "#                \"https://www.bbc.co.uk/programmes/b0072l4x/episodes/guide\"]\n",
    "\n",
    "temp_show_broadcast_details = pd.DataFrame()\n",
    "\n",
    "#for show_url in tqdm(shows_to_run):\n",
    "for show_url in tqdm(shows['Show URL'], desc = 'Show'):\n",
    "    show_instance = Show(show_url, max_pages = 2)\n",
    "    if shows.empty or show_instance.show_key not in shows['Show Key'].unique():\n",
    "        shows = pd.concat([shows,show_instance.show_details])\n",
    "    temp_show_broadcast_details = pd.concat([temp_show_broadcast_details,show_instance.broadcasts])\n",
    "    \n",
    "temp_show_broadcast_details['Datetime Key'] = datetime.now()\n",
    "temp_show_broadcast_details['Is New Data'] = True\n",
    "temp_show_broadcast_details['Is Maybe Pending'] = True\n",
    "temp_show_broadcast_details.drop(columns=['Broadcast Number'], inplace=True)\n",
    "\n",
    "show_broadcast_details = pd.concat([show_broadcast_details,temp_show_broadcast_details])\n",
    "show_broadcast_details = show_broadcast_details.groupby(allbut(show_broadcast_details.columns,['Datetime Key','Is New Data','Is Maybe Pending'])).apply(lambda group: group.nsmallest(1, columns='Datetime Key')).reset_index(drop=True)\n",
    "show_broadcast_details = show_broadcast_details.groupby(\"Broadcast Key\").apply(lambda group: group.nlargest(1, columns='Datetime Key')).reset_index(drop=True)\n",
    "\n",
    "del(temp_show_broadcast_details, \n",
    "    show_instance, \n",
    "    show_url)\n",
    "\n",
    "try:\n",
    "    del(shows_to_run)\n",
    "except:\n",
    "    pass"
   ]
  },
  {
   "cell_type": "code",
   "execution_count": 4,
   "metadata": {},
   "outputs": [
    {
     "name": "stderr",
     "output_type": "stream",
     "text": [
      "Broadcast: 100%|██████████| 141/141 [00:57<00:00,  2.46it/s]\n"
     ]
    }
   ],
   "source": [
    "max_trials = 1000\n",
    "#new_broadcast_data = show_broadcast_details[(show_broadcast_details[\"Is Broadcast Upcoming\"]==False) & ((show_broadcast_details[\"Is New Data\"]==True) | (show_broadcast_details['Is Maybe Pending'] == True))][0:max_trials]\n",
    "new_broadcast_data = show_broadcast_details[((show_broadcast_details[\"Is New Data\"]==True) | (show_broadcast_details['Is Maybe Pending'] == True))][0:max_trials]\n",
    "temp_broadcast_details = pd.DataFrame()\n",
    "temp_broadcast_playlists = pd.DataFrame()\n",
    "run_keys = []\n",
    "\n",
    "for i, [broadcast_url,broadcast_key] in enumerate(tqdm(new_broadcast_data[['Broadcast URL','Broadcast Key']].values, desc = 'Broadcast')):\n",
    "    try:\n",
    "        broadcast_instance = Playlist(broadcast_url)\n",
    "        if ((len(broadcast_instance.playlist.index) == 0) & ((pd.to_datetime('now')- broadcast_instance.broadcast_details[\"Service Date\"]).dt.days.values <= 7)) | ((pd.to_datetime('now')- broadcast_instance.broadcast_details[\"Service Date\"]).dt.days.values == 0):\n",
    "            show_broadcast_details.loc[show_broadcast_details[\"Broadcast Key\"] == broadcast_key,'Is Maybe Pending'] = True\n",
    "        else:\n",
    "            show_broadcast_details.loc[show_broadcast_details[\"Broadcast Key\"] == broadcast_key,'Is Maybe Pending'] = False\n",
    "        temp_broadcast_details = pd.concat([temp_broadcast_details,broadcast_instance.broadcast_details])\n",
    "        temp_broadcast_playlists = pd.concat([temp_broadcast_playlists,broadcast_instance.playlist])\n",
    "        run_keys.append(broadcast_key)\n",
    "    except:\n",
    "        pass\n",
    "    \n",
    "temp_broadcast_details['Datetime Key'] = datetime.now()\n",
    "temp_broadcast_details['Is New Data'] = True\n",
    "temp_broadcast_playlists['Datetime Key'] = datetime.now()\n",
    "temp_broadcast_playlists['Is New Data'] = True\n",
    "\n",
    "if broadcast_details.empty:\n",
    "    of_interest_details_mask = None\n",
    "    broadcast_details_update = broadcast_details\n",
    "    broadcast_details_stationary = broadcast_details\n",
    "else:\n",
    "    of_interest_details_mask = broadcast_details['Broadcast Key'].apply(lambda x: x  in list(temp_broadcast_details['Broadcast Key']))\n",
    "    broadcast_details_update = broadcast_details[of_interest_details_mask]\n",
    "    broadcast_details_stationary = broadcast_details[~of_interest_details_mask]\n",
    "broadcast_details_update = pd.concat([broadcast_details_update,temp_broadcast_details])\n",
    "broadcast_details_update = broadcast_details_update.groupby(allbut(broadcast_details_update.columns,['Datetime Key','Is New Data'])).apply(lambda group: group.nsmallest(1, columns='Datetime Key')).reset_index(drop=True)\n",
    "broadcast_details_update = broadcast_details_update.groupby(\"Broadcast Key\").apply(lambda group: group.nlargest(1, columns='Datetime Key')).reset_index(drop=True)\n",
    "broadcast_details_update['Is New Data'] = False\n",
    "broadcast_details = pd.concat([broadcast_details_update,broadcast_details_stationary])\n",
    "\n",
    "if broadcast_playlists.empty:\n",
    "    of_interest_playlist_mask = None\n",
    "    broadcast_playlists_update = broadcast_playlists\n",
    "    broadcast_playlists_stationary = broadcast_playlists\n",
    "else:\n",
    "    of_interest_playlist_mask = broadcast_playlists['Broadcast Key'].apply(lambda x: x  in list(temp_broadcast_playlists['Broadcast Key']))\n",
    "    broadcast_playlists_update = broadcast_playlists[of_interest_playlist_mask]\n",
    "    broadcast_playlists_stationary = broadcast_playlists[~of_interest_playlist_mask]\n",
    "broadcast_playlists_update = pd.concat([broadcast_playlists_update,temp_broadcast_playlists])\n",
    "broadcast_playlists_update = broadcast_playlists_update.groupby(allbut(broadcast_playlists_update.columns,['Datetime Key','Is New Data'])).apply(lambda group: group.nsmallest(1, columns='Datetime Key')).reset_index(drop=True)\n",
    "broadcast_playlists_update = broadcast_playlists_update.groupby([\"Broadcast Key\", \"Broadcast Position\"]).apply(lambda group: group.nlargest(1, columns='Datetime Key')).reset_index(drop=True)\n",
    "broadcast_playlists_update['Is New Data'] = False\n",
    "broadcast_playlists = pd.concat([broadcast_playlists_update,broadcast_playlists_stationary])\n",
    "\n",
    "show_broadcast_details['Is New Data'] = show_broadcast_details.apply(lambda x: False if ((x['Is New Data'] == False) | (x['Broadcast Key'] in run_keys)) else True, axis = 1)\n",
    "                         \n",
    "del(i,\n",
    "    max_trials,\n",
    "    broadcast_url,\n",
    "    broadcast_key,\n",
    "    run_keys,\n",
    "    new_broadcast_data,\n",
    "    broadcast_instance,\n",
    "    temp_broadcast_playlists,\n",
    "    temp_broadcast_details,\n",
    "    broadcast_playlists_update,\n",
    "    broadcast_playlists_stationary,\n",
    "    of_interest_details_mask,\n",
    "    of_interest_playlist_mask,\n",
    "    broadcast_details_update,\n",
    "    broadcast_details_stationary)\n"
   ]
  },
  {
   "cell_type": "code",
   "execution_count": 5,
   "metadata": {},
   "outputs": [],
   "source": [
    "shows.to_pickle(\"../data/shows.pkl\")\n",
    "show_broadcast_details.to_pickle(\"../data/show_broadcast_details.pkl\")\n",
    "broadcast_details.to_pickle(\"../data/broadcast_details.pkl\")\n",
    "broadcast_playlists.to_pickle(\"../data/broadcast_playlists.pkl\")"
   ]
  }
 ],
 "metadata": {
  "kernelspec": {
   "display_name": "Python 3.8.5",
   "language": "python",
   "name": "python3"
  },
  "language_info": {
   "codemirror_mode": {
    "name": "ipython",
    "version": 3
   },
   "file_extension": ".py",
   "mimetype": "text/x-python",
   "name": "python",
   "nbconvert_exporter": "python",
   "pygments_lexer": "ipython3",
   "version": "3.8.5"
  },
  "orig_nbformat": 4,
  "vscode": {
   "interpreter": {
    "hash": "40d3a090f54c6569ab1632332b64b2c03c39dcf918b08424e98f38b5ae0af88f"
   }
  }
 },
 "nbformat": 4,
 "nbformat_minor": 2
}
