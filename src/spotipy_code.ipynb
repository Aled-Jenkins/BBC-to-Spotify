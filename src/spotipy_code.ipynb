{
 "cells": [
  {
   "cell_type": "code",
   "execution_count": 1,
   "metadata": {},
   "outputs": [
    {
     "name": "stderr",
     "output_type": "stream",
     "text": [
      "/opt/anaconda3/lib/python3.8/site-packages/tqdm/std.py:697: FutureWarning: The Panel class is removed from pandas. Accessing it from the top-level namespace will also be removed in the next version\n",
      "  from pandas import Panel\n"
     ]
    }
   ],
   "source": [
    "import spotipy\n",
    "import pandas as pd\n",
    "import spotipy\n",
    "from spotipy.oauth2 import SpotifyClientCredentials\n",
    "from dotenv import load_dotenv\n",
    "import re\n",
    "from tqdm import tqdm\n",
    "from tqdm.notebook import tqdm_notebook\n",
    "import unidecode\n",
    "import string\n",
    "from fuzzywuzzy import fuzz\n",
    "\n",
    "tqdm_notebook.pandas()\n",
    "\n",
    "load_dotenv('../secrets/.env', override=True)\n",
    "\n",
    "spotify = spotipy.Spotify(client_credentials_manager=SpotifyClientCredentials())\n",
    "\n",
    "%run useful_functions.ipynb\n",
    "%run spotify_scraping.ipynb"
   ]
  },
  {
   "cell_type": "code",
   "execution_count": 2,
   "metadata": {},
   "outputs": [
    {
     "data": {
      "text/html": [
       "<div>\n",
       "<style scoped>\n",
       "    .dataframe tbody tr th:only-of-type {\n",
       "        vertical-align: middle;\n",
       "    }\n",
       "\n",
       "    .dataframe tbody tr th {\n",
       "        vertical-align: top;\n",
       "    }\n",
       "\n",
       "    .dataframe thead th {\n",
       "        text-align: right;\n",
       "    }\n",
       "</style>\n",
       "<table border=\"1\" class=\"dataframe\">\n",
       "  <thead>\n",
       "    <tr style=\"text-align: right;\">\n",
       "      <th></th>\n",
       "      <th>Artist Name</th>\n",
       "      <th>Track Name</th>\n",
       "    </tr>\n",
       "  </thead>\n",
       "  <tbody>\n",
       "    <tr>\n",
       "      <th>6</th>\n",
       "      <td></td>\n",
       "      <td>Hamilton Bohannon - Disco Stomp</td>\n",
       "    </tr>\n",
       "    <tr>\n",
       "      <th>10</th>\n",
       "      <td></td>\n",
       "      <td>Loftopus performer: GOLDEN AGE OF STEAM</td>\n",
       "    </tr>\n",
       "    <tr>\n",
       "      <th>11</th>\n",
       "      <td></td>\n",
       "      <td>Nacholbedurfnis</td>\n",
       "    </tr>\n",
       "    <tr>\n",
       "      <th>12</th>\n",
       "      <td></td>\n",
       "      <td>Off The Beach performer: WIRE label: Pink Flag...</td>\n",
       "    </tr>\n",
       "    <tr>\n",
       "      <th>14</th>\n",
       "      <td></td>\n",
       "      <td>Public Enemy - Bring The Noise</td>\n",
       "    </tr>\n",
       "    <tr>\n",
       "      <th>...</th>\n",
       "      <td>...</td>\n",
       "      <td>...</td>\n",
       "    </tr>\n",
       "    <tr>\n",
       "      <th>56583</th>\n",
       "      <td>宮下富実夫</td>\n",
       "      <td>See The Light (Abridged)</td>\n",
       "    </tr>\n",
       "    <tr>\n",
       "      <th>56584</th>\n",
       "      <td>暗黒神話</td>\n",
       "      <td>cowbel song (Lomax Remix)</td>\n",
       "    </tr>\n",
       "    <tr>\n",
       "      <th>56585</th>\n",
       "      <td>爱乐团</td>\n",
       "      <td>Only She Knows</td>\n",
       "    </tr>\n",
       "    <tr>\n",
       "      <th>56587</th>\n",
       "      <td>跡部進一</td>\n",
       "      <td>Heat 1</td>\n",
       "    </tr>\n",
       "    <tr>\n",
       "      <th>56588</th>\n",
       "      <td>악단광칠</td>\n",
       "      <td>맞이를 가요 Hello, Lonely</td>\n",
       "    </tr>\n",
       "  </tbody>\n",
       "</table>\n",
       "<p>22450 rows × 2 columns</p>\n",
       "</div>"
      ],
      "text/plain": [
       "      Artist Name                                         Track Name\n",
       "6                                    Hamilton Bohannon - Disco Stomp\n",
       "10                           Loftopus\n",
       "performer: GOLDEN AGE OF STEAM\n",
       "11                                                   Nacholbedurfnis\n",
       "12                 Off The Beach performer: WIRE\n",
       "label: Pink Flag...\n",
       "14                                    Public Enemy - Bring The Noise\n",
       "...           ...                                                ...\n",
       "56583       宮下富実夫                           See The Light (Abridged)\n",
       "56584        暗黒神話                          cowbel song (Lomax Remix)\n",
       "56585         爱乐团                                     Only She Knows\n",
       "56587        跡部進一                                             Heat 1\n",
       "56588        악단광칠                               맞이를 가요 Hello, Lonely\n",
       "\n",
       "[22450 rows x 2 columns]"
      ]
     },
     "execution_count": 2,
     "metadata": {},
     "output_type": "execute_result"
    }
   ],
   "source": [
    "broadcast_playlists = get_broadcast_playlists()\n",
    "search = get_spotify_search()\n",
    "tracks = get_spotify_tracks()\n",
    "albums = get_spotify_albums()\n",
    "artists = get_spotify_artists()\n",
    "\n",
    "tracks_to_run = broadcast_playlists[['Track Name', 'Artist Name']].sort_values(['Artist Name','Track Name'], ascending =  True).drop_duplicates(subset=['Artist Name','Track Name'], keep='first')\n",
    "try:   \n",
    "    tracks_to_run = tracks_to_run.merge(search[['Original Search Artist','Original Search Track']], how='left', left_on=['Artist Name','Track Name'], right_on=['Original Search Artist','Original Search Track'], copy=False,indicator=True)\n",
    "    tracks_to_run = tracks_to_run[tracks_to_run['_merge']!=\"both\"][['Artist Name','Track Name']]\n",
    "except:\n",
    "    tracks_to_run = tracks_to_run[['Artist Name','Track Name']]\n",
    "tracks_to_run"
   ]
  },
  {
   "cell_type": "code",
   "execution_count": 3,
   "metadata": {},
   "outputs": [
    {
     "name": "stdout",
     "output_type": "stream",
     "text": [
      "Iteration  1  of  22450 : Agaskodo Teliverek : 30000 Lightyears Old\n"
     ]
    }
   ],
   "source": [
    "max_iter = 1000\n",
    "\n",
    "for i, (index, row) in enumerate(tracks_to_run[100:max_iter].iterrows()):\n",
    "    print(\"Iteration \",i+1,\" of \",len(tracks_to_run.index),\":\",row['Artist Name'],\":\", row['Track Name'])\n",
    "    try:\n",
    "        (temp_tracks,temp_albums,temp_artists,temp_search) = get_track_info(row['Artist Name'],row['Track Name'])\n",
    "    except:\n",
    "        (temp_tracks,temp_albums,temp_artists,temp_search) = (pd.DataFrame(),pd.DataFrame(),pd.DataFrame(),pd.DataFrame())\n",
    "    tracks = pd.concat([tracks,temp_tracks])\n",
    "    albums = pd.concat([albums,temp_albums])\n",
    "    artists = pd.concat([artists,temp_artists])\n",
    "    search = pd.concat([search,temp_search])\n",
    "    \n",
    "del(i,\n",
    "    max_iter,\n",
    "    index,\n",
    "    row,\n",
    "    temp_albums,\n",
    "    temp_artists,\n",
    "    temp_tracks,\n",
    "    temp_search,\n",
    "    tracks_to_run)  "
   ]
  },
  {
   "cell_type": "code",
   "execution_count": 42,
   "metadata": {},
   "outputs": [],
   "source": [
    "search = search.drop_duplicates(subset=['Original Search Artist', 'Original Search Track'], keep='last')\n",
    "albums = albums.drop_duplicates(subset='Album ID', keep='last')\n",
    "tracks = tracks.drop_duplicates(subset='Track ID', keep='last')\n",
    "artists = artists.drop_duplicates(subset='Artist ID', keep='last')"
   ]
  },
  {
   "cell_type": "code",
   "execution_count": 43,
   "metadata": {},
   "outputs": [],
   "source": [
    "search.drop(columns = ['Accept'],errors='ignore', inplace=True)\n",
    "temp_search = search.merge(tracks, how = 'left', on = 'Track ID')[['Track ID', 'Track Name','Original Search Track', 'Cleaned Search Track', 'Original Search Artist']]\n",
    "temp_search[['Track Name Lower', 'Original Search Track Lower']] = temp_search[['Track Name', 'Original Search Track']].applymap(lambda s: s.lower() if type(s) == str else s)\n",
    "temp_search['Partial Ratio'] = temp_search.apply(lambda x: fuzz.partial_ratio(x['Track Name Lower'], x['Original Search Track Lower']), axis=1)\n",
    "temp_search['Ratio'] = temp_search.apply(lambda x: fuzz.ratio(x['Track Name Lower'], x['Original Search Track Lower'],), axis=1)\n",
    "temp_search['WRatio'] = temp_search.apply(lambda x: fuzz.WRatio(x['Track Name Lower'], x['Original Search Track Lower']), axis=1)\n",
    "temp_search['Accept'] = temp_search.apply(lambda x: x['WRatio']>50 and x['Ratio'] > 50 and x['Partial Ratio'] > 50, axis=1)\n",
    "search = search.merge(temp_search[['Original Search Artist','Original Search Track','Track ID', 'Accept']], how = 'left', on = ['Original Search Artist','Original Search Track','Track ID'])\n",
    "  \n",
    "temp_search.to_excel('../data/temp.xlsx')"
   ]
  },
  {
   "cell_type": "code",
   "execution_count": 44,
   "metadata": {},
   "outputs": [],
   "source": [
    "tracks.to_pickle(\"../data/spotify_tracks.pkl\")\n",
    "albums.to_pickle(\"../data/spotify_albums.pkl\")\n",
    "artists.to_pickle(\"../data/spotify_artists.pkl\")\n",
    "search.to_pickle(\"../data/spotify_search.pkl\")"
   ]
  }
 ],
 "metadata": {
  "kernelspec": {
   "display_name": "Python 3.8.5",
   "language": "python",
   "name": "python3"
  },
  "language_info": {
   "codemirror_mode": {
    "name": "ipython",
    "version": 3
   },
   "file_extension": ".py",
   "mimetype": "text/x-python",
   "name": "python",
   "nbconvert_exporter": "python",
   "pygments_lexer": "ipython3",
   "version": "3.8.5"
  },
  "orig_nbformat": 4,
  "vscode": {
   "interpreter": {
    "hash": "40d3a090f54c6569ab1632332b64b2c03c39dcf918b08424e98f38b5ae0af88f"
   }
  }
 },
 "nbformat": 4,
 "nbformat_minor": 2
}
