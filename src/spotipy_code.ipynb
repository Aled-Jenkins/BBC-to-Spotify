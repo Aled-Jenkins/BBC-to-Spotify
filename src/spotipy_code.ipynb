{
 "cells": [
  {
   "cell_type": "code",
   "execution_count": 1,
   "metadata": {},
   "outputs": [],
   "source": [
    "import spotipy\n",
    "import pandas as pd\n",
    "import spotipy\n",
    "from spotipy.oauth2 import SpotifyClientCredentials\n",
    "from dotenv import load_dotenv\n",
    "import re\n",
    "\n",
    "load_dotenv('../secrets/.env')\n",
    "\n",
    "%run useful_functions.ipynb\n",
    "%run spotify_scraping.ipynb\n",
    "\n",
    "spotify = spotipy.Spotify(client_credentials_manager=SpotifyClientCredentials())"
   ]
  },
  {
   "cell_type": "code",
   "execution_count": 2,
   "metadata": {},
   "outputs": [],
   "source": [
    "shows = get_shows()\n",
    "show_broadcast_details = get_show_broadcast_details()\n",
    "broadcast_details = get_broadcast_details()\n",
    "broadcast_playlists = get_broadcast_playlists()\n",
    "\n",
    "master_df = (\n",
    "broadcast_details\n",
    ".merge(broadcast_playlists, on='Broadcast Key', how='left', suffixes=(\" Broadcast Details\",\"\"))\n",
    ".merge(show_broadcast_details, on='Broadcast Key', how='left', suffixes=(\"\",\" Show Details\"))\n",
    ".merge(shows, on='Show Key', how='left')\n",
    ".sort_values(['Service Date','Broadcast Position'], ascending = [False, True])\n",
    ")\n",
    "\n",
    "tracks = get_spotify_tracks()\n",
    "albums = get_spotify_albums()\n",
    "artists = get_spotify_artists()"
   ]
  },
  {
   "cell_type": "code",
   "execution_count": 3,
   "metadata": {},
   "outputs": [
    {
     "data": {
      "text/html": [
       "<div>\n",
       "<style scoped>\n",
       "    .dataframe tbody tr th:only-of-type {\n",
       "        vertical-align: middle;\n",
       "    }\n",
       "\n",
       "    .dataframe tbody tr th {\n",
       "        vertical-align: top;\n",
       "    }\n",
       "\n",
       "    .dataframe thead th {\n",
       "        text-align: right;\n",
       "    }\n",
       "</style>\n",
       "<table border=\"1\" class=\"dataframe\">\n",
       "  <thead>\n",
       "    <tr style=\"text-align: right;\">\n",
       "      <th></th>\n",
       "      <th>Artist Name</th>\n",
       "      <th>Track Name</th>\n",
       "    </tr>\n",
       "  </thead>\n",
       "  <tbody>\n",
       "    <tr>\n",
       "      <th>25</th>\n",
       "      <td>Automotion</td>\n",
       "      <td>Automotion</td>\n",
       "    </tr>\n",
       "  </tbody>\n",
       "</table>\n",
       "</div>"
      ],
      "text/plain": [
       "   Artist Name  Track Name\n",
       "25  Automotion  Automotion"
      ]
     },
     "execution_count": 3,
     "metadata": {},
     "output_type": "execute_result"
    }
   ],
   "source": [
    "demo_df = master_df[(master_df['Service Date'].apply(lambda date: date.year) == 2022) & (master_df['Show Name'] == \"Radio 1's Indie Show with Jack Saunders\")]\n",
    "\n",
    "tracks_to_run = demo_df[['Track Name', 'Artist Name']].sort_values(['Artist Name','Track Name'], ascending =  True).drop_duplicates(subset=['Artist Name','Track Name'], keep='first')\n",
    "tracks_to_run = tracks_to_run.merge(tracks[['Original Search Artist','Original Search Track']], how='left', left_on=['Artist Name','Track Name'], right_on=['Original Search Artist','Original Search Track'], copy=False,indicator=True)\n",
    "tracks_to_run = tracks_to_run[tracks_to_run['_merge']!=\"both\"][['Artist Name','Track Name']]\n",
    "tracks_to_run"
   ]
  },
  {
   "cell_type": "code",
   "execution_count": 5,
   "metadata": {},
   "outputs": [
    {
     "name": "stdout",
     "output_type": "stream",
     "text": [
      "Iteration  1  of  1 : Automotion : Automotion\n",
      "Error with:  Automotion : Automotion\n"
     ]
    }
   ],
   "source": [
    "for i, (index, row) in enumerate(tracks_to_run.iterrows()):\n",
    "    print(\"Iteration \",i+1,\" of \",len(tracks_to_run.index),\":\",row['Artist Name'],\":\", row['Track Name'])\n",
    "    (temp_tracks,temp_albums,temp_artists) = get_track_info(row['Artist Name'],row['Track Name'])\n",
    "    \n",
    "    tracks = pd.concat([tracks,temp_tracks])\n",
    "    albums = pd.concat([albums,temp_albums])\n",
    "    artists = pd.concat([artists,temp_artists])\n",
    "    \n",
    "tracks = tracks.drop_duplicates(subset=['Original Search Artist', 'Original Search Track'], keep='last')\n",
    "albums = albums.drop_duplicates(subset='Album ID', keep='last')\n",
    "artists = artists.drop_duplicates(subset='Artist ID', keep='last')"
   ]
  },
  {
   "cell_type": "code",
   "execution_count": 44,
   "metadata": {},
   "outputs": [],
   "source": [
    "tracks.to_pickle(\"../data/spotify_tracks.pkl\")\n",
    "albums.to_pickle(\"../data/spotify_albums.pkl\")\n",
    "artists.to_pickle(\"../data/spotify_artists.pkl\")"
   ]
  }
 ],
 "metadata": {
  "kernelspec": {
   "display_name": "Python 3.8.5",
   "language": "python",
   "name": "python3"
  },
  "language_info": {
   "codemirror_mode": {
    "name": "ipython",
    "version": 3
   },
   "file_extension": ".py",
   "mimetype": "text/x-python",
   "name": "python",
   "nbconvert_exporter": "python",
   "pygments_lexer": "ipython3",
   "version": "3.8.5"
  },
  "orig_nbformat": 4,
  "vscode": {
   "interpreter": {
    "hash": "40d3a090f54c6569ab1632332b64b2c03c39dcf918b08424e98f38b5ae0af88f"
   }
  }
 },
 "nbformat": 4,
 "nbformat_minor": 2
}
