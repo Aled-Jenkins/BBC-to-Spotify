{
 "cells": [
  {
   "cell_type": "code",
   "execution_count": 2,
   "metadata": {},
   "outputs": [],
   "source": [
    "import spotipy\n",
    "import pandas as pd\n",
    "import spotipy\n",
    "from spotipy.oauth2 import SpotifyClientCredentials\n",
    "from dotenv import load_dotenv\n",
    "import re\n",
    "from tqdm import tqdm\n",
    "\n",
    "load_dotenv('../secrets/.env', override=True)\n",
    "\n",
    "%run useful_functions.ipynb\n",
    "%run spotify_scraping.ipynb\n",
    "\n",
    "spotify = spotipy.Spotify(client_credentials_manager=SpotifyClientCredentials())"
   ]
  },
  {
   "cell_type": "code",
   "execution_count": 3,
   "metadata": {},
   "outputs": [],
   "source": [
    "#shows = get_shows()\n",
    "#show_broadcast_details = get_show_broadcast_details()\n",
    "#broadcast_details = get_broadcast_details()\n",
    "\n",
    "#master_df = (\n",
    "#broadcast_playlists\n",
    "#.merge(broadcast_details, on='Broadcast Key', how='left', suffixes=(\" Broadcast Details\",\"\"))\n",
    "#.merge(show_broadcast_details, on='Broadcast Key', how='left', suffixes=(\"\",\" Show Details\"))\n",
    "#.merge(shows, on='Show Key', how='left')\n",
    "#.sort_values(['Service Date','Broadcast Position'], ascending = [False, True])\n",
    "#)"
   ]
  },
  {
   "cell_type": "code",
   "execution_count": 4,
   "metadata": {},
   "outputs": [
    {
     "data": {
      "text/html": [
       "<div>\n",
       "<style scoped>\n",
       "    .dataframe tbody tr th:only-of-type {\n",
       "        vertical-align: middle;\n",
       "    }\n",
       "\n",
       "    .dataframe tbody tr th {\n",
       "        vertical-align: top;\n",
       "    }\n",
       "\n",
       "    .dataframe thead th {\n",
       "        text-align: right;\n",
       "    }\n",
       "</style>\n",
       "<table border=\"1\" class=\"dataframe\">\n",
       "  <thead>\n",
       "    <tr style=\"text-align: right;\">\n",
       "      <th></th>\n",
       "      <th>Artist Name</th>\n",
       "      <th>Track Name</th>\n",
       "    </tr>\n",
       "  </thead>\n",
       "  <tbody>\n",
       "    <tr>\n",
       "      <th>0</th>\n",
       "      <td></td>\n",
       "      <td>Faking Jazz Together</td>\n",
       "    </tr>\n",
       "    <tr>\n",
       "      <th>1</th>\n",
       "      <td>+HIRS+</td>\n",
       "      <td>Y'all Are Precious.</td>\n",
       "    </tr>\n",
       "    <tr>\n",
       "      <th>2</th>\n",
       "      <td>...From The Benthic Zone</td>\n",
       "      <td>Edwin</td>\n",
       "    </tr>\n",
       "    <tr>\n",
       "      <th>8</th>\n",
       "      <td>128kps</td>\n",
       "      <td>D4y n N1t3 (Phasmid's Unnecessary Mix)</td>\n",
       "    </tr>\n",
       "    <tr>\n",
       "      <th>15</th>\n",
       "      <td>24Hour Experience</td>\n",
       "      <td>Together</td>\n",
       "    </tr>\n",
       "    <tr>\n",
       "      <th>...</th>\n",
       "      <td>...</td>\n",
       "      <td>...</td>\n",
       "    </tr>\n",
       "    <tr>\n",
       "      <th>12673</th>\n",
       "      <td>Бони НЕМ</td>\n",
       "      <td>And I Love Her</td>\n",
       "    </tr>\n",
       "    <tr>\n",
       "      <th>12674</th>\n",
       "      <td>አለማየሁ እሸቴ</td>\n",
       "      <td>Alteleyeshegnem</td>\n",
       "    </tr>\n",
       "    <tr>\n",
       "      <th>12675</th>\n",
       "      <td>“Little” Louie Vega</td>\n",
       "      <td>All My Love</td>\n",
       "    </tr>\n",
       "    <tr>\n",
       "      <th>12682</th>\n",
       "      <td>上々颱風</td>\n",
       "      <td>Let It Be</td>\n",
       "    </tr>\n",
       "    <tr>\n",
       "      <th>12683</th>\n",
       "      <td>向山“BINTA”周一</td>\n",
       "      <td>Do You Wanna</td>\n",
       "    </tr>\n",
       "  </tbody>\n",
       "</table>\n",
       "<p>1053 rows × 2 columns</p>\n",
       "</div>"
      ],
      "text/plain": [
       "                    Artist Name                              Track Name\n",
       "0                                                  Faking Jazz Together\n",
       "1                        +HIRS+                     Y'all Are Precious.\n",
       "2      ...From The Benthic Zone                                   Edwin\n",
       "8                        128kps  D4y n N1t3 (Phasmid's Unnecessary Mix)\n",
       "15            24Hour Experience                                Together\n",
       "...                         ...                                     ...\n",
       "12673                  Бони НЕМ                          And I Love Her\n",
       "12674                 አለማየሁ እሸቴ                         Alteleyeshegnem\n",
       "12675       “Little” Louie Vega                             All My Love\n",
       "12682                      上々颱風                               Let It Be\n",
       "12683               向山“BINTA”周一                            Do You Wanna\n",
       "\n",
       "[1053 rows x 2 columns]"
      ]
     },
     "execution_count": 4,
     "metadata": {},
     "output_type": "execute_result"
    }
   ],
   "source": [
    "broadcast_playlists = get_broadcast_playlists()\n",
    "tracks = get_spotify_tracks()\n",
    "albums = get_spotify_albums()\n",
    "artists = get_spotify_artists()\n",
    "\n",
    "tracks_to_run = broadcast_playlists[['Track Name', 'Artist Name']].sort_values(['Artist Name','Track Name'], ascending =  True).drop_duplicates(subset=['Artist Name','Track Name'], keep='first')\n",
    "tracks_to_run = tracks_to_run.merge(tracks[['Original Search Artist','Original Search Track']], how='left', left_on=['Artist Name','Track Name'], right_on=['Original Search Artist','Original Search Track'], copy=False,indicator=True)\n",
    "tracks_to_run = tracks_to_run[tracks_to_run['_merge']!=\"both\"][['Artist Name','Track Name']]\n",
    "tracks_to_run"
   ]
  },
  {
   "cell_type": "code",
   "execution_count": 6,
   "metadata": {},
   "outputs": [
    {
     "name": "stdout",
     "output_type": "stream",
     "text": [
      "Iteration  1  of  1053 :  : Faking Jazz Together\n",
      "Error with:   : Faking Jazz Together\n"
     ]
    }
   ],
   "source": [
    "#for i, (index, row) in enumerate(pbar := tqdm(tracks_to_run.iterrows())):\n",
    "    #pbar.set_description(f\"Iteration {i+1} of {len(tracks_to_run.index)} : {row['Artist Name']} : {row['Track Name']}\")  \n",
    "for i, (index, row) in enumerate(tracks_to_run[0:1].iterrows()):\n",
    "    print(\"Iteration \",i+1,\" of \",len(tracks_to_run.index),\":\",row['Artist Name'],\":\", row['Track Name'])\n",
    "    try:\n",
    "        (temp_tracks,temp_albums,temp_artists) = get_track_info(row['Artist Name'],row['Track Name'])\n",
    "    except:\n",
    "        (temp_tracks,temp_albums,temp_artists) = (pd.DataFrame(),pd.DataFrame(),pd.DataFrame())\n",
    "    tracks = pd.concat([tracks,temp_tracks])\n",
    "    albums = pd.concat([albums,temp_albums])\n",
    "    artists = pd.concat([artists,temp_artists])\n",
    "    \n",
    "del(i,\n",
    "    index,\n",
    "    row,\n",
    "    temp_albums,\n",
    "    temp_artists,\n",
    "    temp_tracks,\n",
    "    tracks_to_run)  "
   ]
  },
  {
   "cell_type": "code",
   "execution_count": 7,
   "metadata": {},
   "outputs": [],
   "source": [
    "tracks = tracks.drop_duplicates(subset=['Original Search Artist', 'Original Search Track'], keep='last')\n",
    "albums = albums.drop_duplicates(subset='Album ID', keep='last')\n",
    "artists = artists.drop_duplicates(subset='Artist ID', keep='last')\n",
    "\n",
    "tracks.to_pickle(\"../data/spotify_tracks.pkl\")\n",
    "albums.to_pickle(\"../data/spotify_albums.pkl\")\n",
    "artists.to_pickle(\"../data/spotify_artists.pkl\")"
   ]
  },
  {
   "cell_type": "code",
   "execution_count": 8,
   "metadata": {},
   "outputs": [],
   "source": [
    "temp = tracks[['Track Name', 'Original Search Track', 'Original Search Artist']].applymap(lambda s: s.lower() if type(s) == str else s)\n",
    "temp = temp[temp['Track Name'] != temp['Original Search Track']]\n",
    "temp.to_excel('./temp.xlsx')\n",
    "del(temp)\n",
    "#CAN IMPROVE UPON MATCHING"
   ]
  }
 ],
 "metadata": {
  "kernelspec": {
   "display_name": "Python 3.8.5",
   "language": "python",
   "name": "python3"
  },
  "language_info": {
   "codemirror_mode": {
    "name": "ipython",
    "version": 3
   },
   "file_extension": ".py",
   "mimetype": "text/x-python",
   "name": "python",
   "nbconvert_exporter": "python",
   "pygments_lexer": "ipython3",
   "version": "3.8.5"
  },
  "orig_nbformat": 4,
  "vscode": {
   "interpreter": {
    "hash": "40d3a090f54c6569ab1632332b64b2c03c39dcf918b08424e98f38b5ae0af88f"
   }
  }
 },
 "nbformat": 4,
 "nbformat_minor": 2
}
