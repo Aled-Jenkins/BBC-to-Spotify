{
 "cells": [
  {
   "cell_type": "code",
   "execution_count": 2,
   "metadata": {},
   "outputs": [],
   "source": [
    "import pandas as pd"
   ]
  },
  {
   "cell_type": "code",
   "execution_count": 1,
   "metadata": {},
   "outputs": [],
   "source": [
    "def get_shows():\n",
    "    try:\n",
    "        shows = pd.read_pickle(\"../data/shows.pkl\")\n",
    "    except:\n",
    "        shows = pd.DataFrame()\n",
    "    return(shows)\n",
    "    \n",
    "def get_show_broadcast_details():\n",
    "    try:\n",
    "        show_broadcast_details = pd.read_pickle(\"../data/show_broadcast_details.pkl\")\n",
    "    except:\n",
    "        show_broadcast_details = pd.DataFrame()\n",
    "    return(show_broadcast_details)\n",
    "\n",
    "def get_broadcast_details():   \n",
    "    try:\n",
    "        broadcast_details = pd.read_pickle(\"../data/broadcast_details.pkl\")\n",
    "    except:\n",
    "        broadcast_details = pd.DataFrame()\n",
    "    return(broadcast_details)\n",
    "\n",
    "def get_broadcast_playlists():\n",
    "    try:\n",
    "        broadcast_playlists = pd.read_pickle(\"../data/broadcast_playlists.pkl\")\n",
    "    except:\n",
    "        broadcast_playlists = pd.DataFrame()\n",
    "    return(broadcast_playlists)\n",
    "    \n",
    "def allbut(levels, names):\n",
    "    names = set(names)\n",
    "    return [item for item in levels if item not in names]"
   ]
  },
  {
   "cell_type": "code",
   "execution_count": null,
   "metadata": {},
   "outputs": [],
   "source": []
  }
 ],
 "metadata": {
  "kernelspec": {
   "display_name": "Python 3.8.5",
   "language": "python",
   "name": "python3"
  },
  "language_info": {
   "codemirror_mode": {
    "name": "ipython",
    "version": 3
   },
   "file_extension": ".py",
   "mimetype": "text/x-python",
   "name": "python",
   "nbconvert_exporter": "python",
   "pygments_lexer": "ipython3",
   "version": "3.8.5"
  },
  "orig_nbformat": 4,
  "vscode": {
   "interpreter": {
    "hash": "40d3a090f54c6569ab1632332b64b2c03c39dcf918b08424e98f38b5ae0af88f"
   }
  }
 },
 "nbformat": 4,
 "nbformat_minor": 2
}
